{
 "cells": [
  {
   "cell_type": "markdown",
   "metadata": {},
   "source": [
    "<img src=\"logo.jpg\" />\n",
    "\n",
    "# Pedram Jahangiry\n",
    "\n",
    "* ## [My GitHub repository](https://github.com/PJalgotrader) \n",
    "* ## [My YouTube channel](https://www.youtube.com/channel/UCNDElcuuyX-2pSatVBDpJJQ) \n",
    "\n",
    "\n",
    "---"
   ]
  },
  {
   "cell_type": "markdown",
   "metadata": {},
   "source": [
    "# Regularization: Penalized regression\n",
    "\n",
    "Regularization force the learning algorithm to build a less complex model . In practice, that often leads to slightly higher bias but significantly reduces the variance. The most common penalized regression models are:\n",
    "\n",
    "1. Ridge regression\n",
    "2. Lasso regression\n",
    "3. Elastic Net regression\n",
    "\n",
    "In this notebook we will explore the three methods and compare their results with a multiple liear regression model applied to our synthetic data generated from the following  true model f(x)\n",
    "\n",
    "$$y =f(x)= x + 2x^2- 3 x^3 + \\epsilon$$\n",
    "\n",
    "The target variable is **y** and the features are 5 polynomial features of **X**. Namely, X1= $X$, X2= $X^2$, X3= $X^3$ and etc. \n"
   ]
  },
  {
   "cell_type": "markdown",
   "metadata": {},
   "source": [
    "First we need to import the libraries: "
   ]
  },
  {
   "cell_type": "code",
   "execution_count": 1,
   "metadata": {},
   "outputs": [],
   "source": [
    "import numpy as np\n",
    "import pandas as pd\n",
    "import matplotlib.pyplot as plt\n",
    "import seaborn as sns\n",
    "from sklearn.linear_model import LinearRegression\n",
    "import statsmodels.api as sm\n",
    "sns.set()  #if you want to use seaborn themes with matplotlib functions\n",
    "import warnings\n",
    "warnings.filterwarnings('ignore')"
   ]
  },
  {
   "cell_type": "code",
   "execution_count": 2,
   "metadata": {},
   "outputs": [],
   "source": [
    "rand_state= 1000"
   ]
  },
  {
   "cell_type": "code",
   "execution_count": 3,
   "metadata": {},
   "outputs": [],
   "source": [
    "df=pd.read_csv('Regularization_synthetic.csv')"
   ]
  },
  {
   "cell_type": "code",
   "execution_count": 4,
   "metadata": {},
   "outputs": [
    {
     "data": {
      "text/html": [
       "<div>\n",
       "<style scoped>\n",
       "    .dataframe tbody tr th:only-of-type {\n",
       "        vertical-align: middle;\n",
       "    }\n",
       "\n",
       "    .dataframe tbody tr th {\n",
       "        vertical-align: top;\n",
       "    }\n",
       "\n",
       "    .dataframe thead th {\n",
       "        text-align: right;\n",
       "    }\n",
       "</style>\n",
       "<table border=\"1\" class=\"dataframe\">\n",
       "  <thead>\n",
       "    <tr style=\"text-align: right;\">\n",
       "      <th></th>\n",
       "      <th>X1</th>\n",
       "      <th>X2</th>\n",
       "      <th>X3</th>\n",
       "      <th>X4</th>\n",
       "      <th>X5</th>\n",
       "      <th>y</th>\n",
       "    </tr>\n",
       "  </thead>\n",
       "  <tbody>\n",
       "    <tr>\n",
       "      <th>0</th>\n",
       "      <td>1.668068</td>\n",
       "      <td>2.782452</td>\n",
       "      <td>4.641320</td>\n",
       "      <td>7.742038</td>\n",
       "      <td>12.914249</td>\n",
       "      <td>-3.901562</td>\n",
       "    </tr>\n",
       "    <tr>\n",
       "      <th>1</th>\n",
       "      <td>0.925862</td>\n",
       "      <td>0.857220</td>\n",
       "      <td>0.793667</td>\n",
       "      <td>0.734826</td>\n",
       "      <td>0.680348</td>\n",
       "      <td>-0.384578</td>\n",
       "    </tr>\n",
       "    <tr>\n",
       "      <th>2</th>\n",
       "      <td>1.057997</td>\n",
       "      <td>1.119357</td>\n",
       "      <td>1.184276</td>\n",
       "      <td>1.252960</td>\n",
       "      <td>1.325628</td>\n",
       "      <td>12.493677</td>\n",
       "    </tr>\n",
       "    <tr>\n",
       "      <th>3</th>\n",
       "      <td>-0.920339</td>\n",
       "      <td>0.847024</td>\n",
       "      <td>-0.779549</td>\n",
       "      <td>0.717449</td>\n",
       "      <td>-0.660297</td>\n",
       "      <td>12.237389</td>\n",
       "    </tr>\n",
       "    <tr>\n",
       "      <th>4</th>\n",
       "      <td>1.299748</td>\n",
       "      <td>1.689346</td>\n",
       "      <td>2.195725</td>\n",
       "      <td>2.853890</td>\n",
       "      <td>3.709339</td>\n",
       "      <td>-3.772851</td>\n",
       "    </tr>\n",
       "  </tbody>\n",
       "</table>\n",
       "</div>"
      ],
      "text/plain": [
       "         X1        X2        X3        X4         X5          y\n",
       "0  1.668068  2.782452  4.641320  7.742038  12.914249  -3.901562\n",
       "1  0.925862  0.857220  0.793667  0.734826   0.680348  -0.384578\n",
       "2  1.057997  1.119357  1.184276  1.252960   1.325628  12.493677\n",
       "3 -0.920339  0.847024 -0.779549  0.717449  -0.660297  12.237389\n",
       "4  1.299748  1.689346  2.195725  2.853890   3.709339  -3.772851"
      ]
     },
     "execution_count": 4,
     "metadata": {},
     "output_type": "execute_result"
    }
   ],
   "source": [
    "df.head()"
   ]
  },
  {
   "cell_type": "code",
   "execution_count": 5,
   "metadata": {},
   "outputs": [
    {
     "data": {
      "image/png": "[encoded data removed]",
      "text/plain": [
       "<Figure size 432x288 with 1 Axes>"
      ]
     },
     "metadata": {},
     "output_type": "display_data"
    }
   ],
   "source": [
    "sns.scatterplot(x='X1', y='y', data=df)\n",
    "plt.show()"
   ]
  },
  {
   "cell_type": "markdown",
   "metadata": {},
   "source": [
    "**important**: we need to normalize the features before training the models. Why? \n"
   ]
  },
  {
   "cell_type": "code",
   "execution_count": 6,
   "metadata": {},
   "outputs": [],
   "source": [
    "from sklearn.preprocessing import StandardScaler"
   ]
  },
  {
   "cell_type": "code",
   "execution_count": 7,
   "metadata": {},
   "outputs": [],
   "source": [
    "scaler=StandardScaler()\n",
    "df_sc= scaler.fit_transform(df)"
   ]
  },
  {
   "cell_type": "code",
   "execution_count": 8,
   "metadata": {},
   "outputs": [
    {
     "data": {
      "text/html": [
       "<div>\n",
       "<style scoped>\n",
       "    .dataframe tbody tr th:only-of-type {\n",
       "        vertical-align: middle;\n",
       "    }\n",
       "\n",
       "    .dataframe tbody tr th {\n",
       "        vertical-align: top;\n",
       "    }\n",
       "\n",
       "    .dataframe thead th {\n",
       "        text-align: right;\n",
       "    }\n",
       "</style>\n",
       "<table border=\"1\" class=\"dataframe\">\n",
       "  <thead>\n",
       "    <tr style=\"text-align: right;\">\n",
       "      <th></th>\n",
       "      <th>X1</th>\n",
       "      <th>X2</th>\n",
       "      <th>X3</th>\n",
       "      <th>X4</th>\n",
       "      <th>X5</th>\n",
       "      <th>y</th>\n",
       "    </tr>\n",
       "  </thead>\n",
       "  <tbody>\n",
       "    <tr>\n",
       "      <th>count</th>\n",
       "      <td>100.000000</td>\n",
       "      <td>100.000000</td>\n",
       "      <td>100.000000</td>\n",
       "      <td>1.000000e+02</td>\n",
       "      <td>1.000000e+02</td>\n",
       "      <td>100.000000</td>\n",
       "    </tr>\n",
       "    <tr>\n",
       "      <th>mean</th>\n",
       "      <td>-0.045528</td>\n",
       "      <td>1.035573</td>\n",
       "      <td>0.028803</td>\n",
       "      <td>3.577067e+00</td>\n",
       "      <td>2.649662e+00</td>\n",
       "      <td>3.163589</td>\n",
       "    </tr>\n",
       "    <tr>\n",
       "      <th>std</th>\n",
       "      <td>1.021734</td>\n",
       "      <td>1.590583</td>\n",
       "      <td>4.933266</td>\n",
       "      <td>1.467239e+01</td>\n",
       "      <td>4.937498e+01</td>\n",
       "      <td>17.251525</td>\n",
       "    </tr>\n",
       "    <tr>\n",
       "      <th>min</th>\n",
       "      <td>-2.502813</td>\n",
       "      <td>0.000077</td>\n",
       "      <td>-15.677801</td>\n",
       "      <td>5.990000e-09</td>\n",
       "      <td>-9.820688e+01</td>\n",
       "      <td>-96.615135</td>\n",
       "    </tr>\n",
       "    <tr>\n",
       "      <th>25%</th>\n",
       "      <td>-0.715772</td>\n",
       "      <td>0.106957</td>\n",
       "      <td>-0.367584</td>\n",
       "      <td>1.146202e-02</td>\n",
       "      <td>-1.894007e-01</td>\n",
       "      <td>-4.740569</td>\n",
       "    </tr>\n",
       "    <tr>\n",
       "      <th>50%</th>\n",
       "      <td>-0.056092</td>\n",
       "      <td>0.513483</td>\n",
       "      <td>-0.000186</td>\n",
       "      <td>2.639740e-01</td>\n",
       "      <td>-6.630000e-07</td>\n",
       "      <td>3.535766</td>\n",
       "    </tr>\n",
       "    <tr>\n",
       "      <th>75%</th>\n",
       "      <td>0.708103</td>\n",
       "      <td>1.265628</td>\n",
       "      <td>0.355353</td>\n",
       "      <td>1.605267e+00</td>\n",
       "      <td>1.785395e-01</td>\n",
       "      <td>12.250487</td>\n",
       "    </tr>\n",
       "    <tr>\n",
       "      <th>max</th>\n",
       "      <td>3.428563</td>\n",
       "      <td>11.755044</td>\n",
       "      <td>40.302907</td>\n",
       "      <td>1.381811e+02</td>\n",
       "      <td>4.737624e+02</td>\n",
       "      <td>61.375324</td>\n",
       "    </tr>\n",
       "  </tbody>\n",
       "</table>\n",
       "</div>"
      ],
      "text/plain": [
       "               X1          X2          X3            X4            X5  \\\n",
       "count  100.000000  100.000000  100.000000  1.000000e+02  1.000000e+02   \n",
       "mean    -0.045528    1.035573    0.028803  3.577067e+00  2.649662e+00   \n",
       "std      1.021734    1.590583    4.933266  1.467239e+01  4.937498e+01   \n",
       "min     -2.502813    0.000077  -15.677801  5.990000e-09 -9.820688e+01   \n",
       "25%     -0.715772    0.106957   -0.367584  1.146202e-02 -1.894007e-01   \n",
       "50%     -0.056092    0.513483   -0.000186  2.639740e-01 -6.630000e-07   \n",
       "75%      0.708103    1.265628    0.355353  1.605267e+00  1.785395e-01   \n",
       "max      3.428563   11.755044   40.302907  1.381811e+02  4.737624e+02   \n",
       "\n",
       "                y  \n",
       "count  100.000000  \n",
       "mean     3.163589  \n",
       "std     17.251525  \n",
       "min    -96.615135  \n",
       "25%     -4.740569  \n",
       "50%      3.535766  \n",
       "75%     12.250487  \n",
       "max     61.375324  "
      ]
     },
     "execution_count": 8,
     "metadata": {},
     "output_type": "execute_result"
    }
   ],
   "source": [
    "df.describe()"
   ]
  },
  {
   "cell_type": "code",
   "execution_count": 9,
   "metadata": {},
   "outputs": [
    {
     "data": {
      "text/plain": [
       "-0.4095377655018904"
      ]
     },
     "execution_count": 9,
     "metadata": {},
     "output_type": "execute_result"
    }
   ],
   "source": [
    "# checking the first observation for y1\n",
    "(-3.901562-3.163589)/17.251525"
   ]
  },
  {
   "cell_type": "code",
   "execution_count": 10,
   "metadata": {},
   "outputs": [
    {
     "data": {
      "text/plain": [
       "Index(['X1', 'X2', 'X3', 'X4', 'X5', 'y'], dtype='object')"
      ]
     },
     "execution_count": 10,
     "metadata": {},
     "output_type": "execute_result"
    }
   ],
   "source": [
    "df.columns"
   ]
  },
  {
   "cell_type": "code",
   "execution_count": 11,
   "metadata": {},
   "outputs": [
    {
     "data": {
      "text/html": [
       "<div>\n",
       "<style scoped>\n",
       "    .dataframe tbody tr th:only-of-type {\n",
       "        vertical-align: middle;\n",
       "    }\n",
       "\n",
       "    .dataframe tbody tr th {\n",
       "        vertical-align: top;\n",
       "    }\n",
       "\n",
       "    .dataframe thead th {\n",
       "        text-align: right;\n",
       "    }\n",
       "</style>\n",
       "<table border=\"1\" class=\"dataframe\">\n",
       "  <thead>\n",
       "    <tr style=\"text-align: right;\">\n",
       "      <th></th>\n",
       "      <th>X1</th>\n",
       "      <th>X2</th>\n",
       "      <th>X3</th>\n",
       "      <th>X4</th>\n",
       "      <th>X5</th>\n",
       "      <th>y</th>\n",
       "    </tr>\n",
       "  </thead>\n",
       "  <tbody>\n",
       "    <tr>\n",
       "      <th>0</th>\n",
       "      <td>1.685595</td>\n",
       "      <td>1.103796</td>\n",
       "      <td>0.939693</td>\n",
       "      <td>0.285295</td>\n",
       "      <td>0.208938</td>\n",
       "      <td>-0.411601</td>\n",
       "    </tr>\n",
       "    <tr>\n",
       "      <th>1</th>\n",
       "      <td>0.955517</td>\n",
       "      <td>-0.112695</td>\n",
       "      <td>0.155823</td>\n",
       "      <td>-0.194689</td>\n",
       "      <td>-0.040086</td>\n",
       "      <td>-0.206709</td>\n",
       "    </tr>\n",
       "    <tr>\n",
       "      <th>2</th>\n",
       "      <td>1.085492</td>\n",
       "      <td>0.052941</td>\n",
       "      <td>0.235401</td>\n",
       "      <td>-0.159198</td>\n",
       "      <td>-0.026951</td>\n",
       "      <td>0.543551</td>\n",
       "    </tr>\n",
       "    <tr>\n",
       "      <th>3</th>\n",
       "      <td>-0.860516</td>\n",
       "      <td>-0.119138</td>\n",
       "      <td>-0.164683</td>\n",
       "      <td>-0.195880</td>\n",
       "      <td>-0.067375</td>\n",
       "      <td>0.528621</td>\n",
       "    </tr>\n",
       "    <tr>\n",
       "      <th>4</th>\n",
       "      <td>1.323294</td>\n",
       "      <td>0.413098</td>\n",
       "      <td>0.441460</td>\n",
       "      <td>-0.049537</td>\n",
       "      <td>0.021570</td>\n",
       "      <td>-0.404102</td>\n",
       "    </tr>\n",
       "  </tbody>\n",
       "</table>\n",
       "</div>"
      ],
      "text/plain": [
       "         X1        X2        X3        X4        X5         y\n",
       "0  1.685595  1.103796  0.939693  0.285295  0.208938 -0.411601\n",
       "1  0.955517 -0.112695  0.155823 -0.194689 -0.040086 -0.206709\n",
       "2  1.085492  0.052941  0.235401 -0.159198 -0.026951  0.543551\n",
       "3 -0.860516 -0.119138 -0.164683 -0.195880 -0.067375  0.528621\n",
       "4  1.323294  0.413098  0.441460 -0.049537  0.021570 -0.404102"
      ]
     },
     "execution_count": 11,
     "metadata": {},
     "output_type": "execute_result"
    }
   ],
   "source": [
    "df_sc = pd.DataFrame(df_sc, columns=df.columns)\n",
    "df_sc.head()"
   ]
  },
  {
   "cell_type": "code",
   "execution_count": 12,
   "metadata": {},
   "outputs": [
    {
     "data": {
      "image/png": "[encoded data removed]",
      "text/plain": [
       "<Figure size 432x288 with 1 Axes>"
      ]
     },
     "metadata": {},
     "output_type": "display_data"
    }
   ],
   "source": [
    "sns.scatterplot(x='X1', y='y', data=df_sc)\n",
    "plt.show()"
   ]
  },
  {
   "cell_type": "markdown",
   "metadata": {},
   "source": [
    "###  Splitting the data"
   ]
  },
  {
   "cell_type": "code",
   "execution_count": 13,
   "metadata": {},
   "outputs": [
    {
     "data": {
      "text/html": [
       "<div>\n",
       "<style scoped>\n",
       "    .dataframe tbody tr th:only-of-type {\n",
       "        vertical-align: middle;\n",
       "    }\n",
       "\n",
       "    .dataframe tbody tr th {\n",
       "        vertical-align: top;\n",
       "    }\n",
       "\n",
       "    .dataframe thead th {\n",
       "        text-align: right;\n",
       "    }\n",
       "</style>\n",
       "<table border=\"1\" class=\"dataframe\">\n",
       "  <thead>\n",
       "    <tr style=\"text-align: right;\">\n",
       "      <th></th>\n",
       "      <th>X1</th>\n",
       "      <th>X2</th>\n",
       "      <th>X3</th>\n",
       "      <th>X4</th>\n",
       "      <th>X5</th>\n",
       "    </tr>\n",
       "  </thead>\n",
       "  <tbody>\n",
       "    <tr>\n",
       "      <th>37</th>\n",
       "      <td>1.464631</td>\n",
       "      <td>0.662152</td>\n",
       "      <td>0.606819</td>\n",
       "      <td>0.052327</td>\n",
       "      <td>0.073610</td>\n",
       "    </tr>\n",
       "    <tr>\n",
       "      <th>44</th>\n",
       "      <td>1.572794</td>\n",
       "      <td>0.870372</td>\n",
       "      <td>0.757779</td>\n",
       "      <td>0.153824</td>\n",
       "      <td>0.130178</td>\n",
       "    </tr>\n",
       "    <tr>\n",
       "      <th>55</th>\n",
       "      <td>0.275319</td>\n",
       "      <td>-0.619639</td>\n",
       "      <td>-0.003245</td>\n",
       "      <td>-0.244817</td>\n",
       "      <td>-0.053920</td>\n",
       "    </tr>\n",
       "    <tr>\n",
       "      <th>66</th>\n",
       "      <td>-0.493702</td>\n",
       "      <td>-0.464986</td>\n",
       "      <td>-0.039290</td>\n",
       "      <td>-0.238872</td>\n",
       "      <td>-0.054935</td>\n",
       "    </tr>\n",
       "    <tr>\n",
       "      <th>82</th>\n",
       "      <td>0.272588</td>\n",
       "      <td>-0.620456</td>\n",
       "      <td>-0.003337</td>\n",
       "      <td>-0.244827</td>\n",
       "      <td>-0.053921</td>\n",
       "    </tr>\n",
       "  </tbody>\n",
       "</table>\n",
       "</div>"
      ],
      "text/plain": [
       "          X1        X2        X3        X4        X5\n",
       "37  1.464631  0.662152  0.606819  0.052327  0.073610\n",
       "44  1.572794  0.870372  0.757779  0.153824  0.130178\n",
       "55  0.275319 -0.619639 -0.003245 -0.244817 -0.053920\n",
       "66 -0.493702 -0.464986 -0.039290 -0.238872 -0.054935\n",
       "82  0.272588 -0.620456 -0.003337 -0.244827 -0.053921"
      ]
     },
     "execution_count": 13,
     "metadata": {},
     "output_type": "execute_result"
    }
   ],
   "source": [
    "y = df_sc['y']\n",
    "X = df_sc.drop('y', axis=1) # becareful inplace= False\n",
    "\n",
    "from sklearn.model_selection import train_test_split\n",
    "X_train, X_test, y_train, y_test = train_test_split(X, y, test_size=0.2, random_state=rand_state)\n",
    "X_train.head()"
   ]
  },
  {
   "cell_type": "markdown",
   "metadata": {},
   "source": [
    "As we can see from the table above, the variables are **highly correlated** with each other. \n",
    "\n",
    "Let's first run a linear regression (using statsmodels.api)  and see the results as a benchmark. "
   ]
  },
  {
   "cell_type": "code",
   "execution_count": 14,
   "metadata": {},
   "outputs": [],
   "source": [
    "X_test_wc = sm.add_constant(X_test)\n",
    "X_train_wc = sm.add_constant(X_train)"
   ]
  },
  {
   "cell_type": "code",
   "execution_count": 15,
   "metadata": {},
   "outputs": [
    {
     "data": {
      "text/html": [
       "<table class=\"simpletable\">\n",
       "<caption>OLS Regression Results</caption>\n",
       "<tr>\n",
       "  <th>Dep. Variable:</th>            <td>y</td>        <th>  R-squared:         </th> <td>   0.451</td>\n",
       "</tr>\n",
       "<tr>\n",
       "  <th>Model:</th>                   <td>OLS</td>       <th>  Adj. R-squared:    </th> <td>   0.414</td>\n",
       "</tr>\n",
       "<tr>\n",
       "  <th>Method:</th>             <td>Least Squares</td>  <th>  F-statistic:       </th> <td>   12.17</td>\n",
       "</tr>\n",
       "<tr>\n",
       "  <th>Date:</th>             <td>Mon, 27 Sep 2021</td> <th>  Prob (F-statistic):</th> <td>1.28e-08</td>\n",
       "</tr>\n",
       "<tr>\n",
       "  <th>Time:</th>                 <td>16:55:08</td>     <th>  Log-Likelihood:    </th> <td> -65.981</td>\n",
       "</tr>\n",
       "<tr>\n",
       "  <th>No. Observations:</th>      <td>    80</td>      <th>  AIC:               </th> <td>   144.0</td>\n",
       "</tr>\n",
       "<tr>\n",
       "  <th>Df Residuals:</th>          <td>    74</td>      <th>  BIC:               </th> <td>   158.3</td>\n",
       "</tr>\n",
       "<tr>\n",
       "  <th>Df Model:</th>              <td>     5</td>      <th>                     </th>     <td> </td>   \n",
       "</tr>\n",
       "<tr>\n",
       "  <th>Covariance Type:</th>      <td>nonrobust</td>    <th>                     </th>     <td> </td>   \n",
       "</tr>\n",
       "</table>\n",
       "<table class=\"simpletable\">\n",
       "<tr>\n",
       "    <td></td>       <th>coef</th>     <th>std err</th>      <th>t</th>      <th>P>|t|</th>  <th>[0.025</th>    <th>0.975]</th>  \n",
       "</tr>\n",
       "<tr>\n",
       "  <th>const</th> <td>    0.0870</td> <td>    0.173</td> <td>    0.504</td> <td> 0.616</td> <td>   -0.257</td> <td>    0.431</td>\n",
       "</tr>\n",
       "<tr>\n",
       "  <th>X1</th>    <td>    0.5370</td> <td>    0.199</td> <td>    2.705</td> <td> 0.008</td> <td>    0.141</td> <td>    0.933</td>\n",
       "</tr>\n",
       "<tr>\n",
       "  <th>X2</th>    <td>    0.1037</td> <td>    0.302</td> <td>    0.343</td> <td> 0.732</td> <td>   -0.498</td> <td>    0.705</td>\n",
       "</tr>\n",
       "<tr>\n",
       "  <th>X3</th>    <td>   -2.1339</td> <td>    0.839</td> <td>   -2.543</td> <td> 0.013</td> <td>   -3.806</td> <td>   -0.462</td>\n",
       "</tr>\n",
       "<tr>\n",
       "  <th>X4</th>    <td>    0.2535</td> <td>    0.861</td> <td>    0.294</td> <td> 0.769</td> <td>   -1.463</td> <td>    1.970</td>\n",
       "</tr>\n",
       "<tr>\n",
       "  <th>X5</th>    <td>    1.5933</td> <td>    1.669</td> <td>    0.954</td> <td> 0.343</td> <td>   -1.733</td> <td>    4.920</td>\n",
       "</tr>\n",
       "</table>\n",
       "<table class=\"simpletable\">\n",
       "<tr>\n",
       "  <th>Omnibus:</th>       <td>11.757</td> <th>  Durbin-Watson:     </th> <td>   2.213</td>\n",
       "</tr>\n",
       "<tr>\n",
       "  <th>Prob(Omnibus):</th> <td> 0.003</td> <th>  Jarque-Bera (JB):  </th> <td>  14.171</td>\n",
       "</tr>\n",
       "<tr>\n",
       "  <th>Skew:</th>          <td>-0.701</td> <th>  Prob(JB):          </th> <td>0.000837</td>\n",
       "</tr>\n",
       "<tr>\n",
       "  <th>Kurtosis:</th>      <td> 4.512</td> <th>  Cond. No.          </th> <td>    33.9</td>\n",
       "</tr>\n",
       "</table><br/><br/>Notes:<br/>[1] Standard Errors assume that the covariance matrix of the errors is correctly specified."
      ],
      "text/plain": [
       "<class 'statsmodels.iolib.summary.Summary'>\n",
       "\"\"\"\n",
       "                            OLS Regression Results                            \n",
       "==============================================================================\n",
       "Dep. Variable:                      y   R-squared:                       0.451\n",
       "Model:                            OLS   Adj. R-squared:                  0.414\n",
       "Method:                 Least Squares   F-statistic:                     12.17\n",
       "Date:                Mon, 27 Sep 2021   Prob (F-statistic):           1.28e-08\n",
       "Time:                        16:55:08   Log-Likelihood:                -65.981\n",
       "No. Observations:                  80   AIC:                             144.0\n",
       "Df Residuals:                      74   BIC:                             158.3\n",
       "Df Model:                           5                                         \n",
       "Covariance Type:            nonrobust                                         \n",
       "==============================================================================\n",
       "                 coef    std err          t      P>|t|      [0.025      0.975]\n",
       "------------------------------------------------------------------------------\n",
       "const          0.0870      0.173      0.504      0.616      -0.257       0.431\n",
       "X1             0.5370      0.199      2.705      0.008       0.141       0.933\n",
       "X2             0.1037      0.302      0.343      0.732      -0.498       0.705\n",
       "X3            -2.1339      0.839     -2.543      0.013      -3.806      -0.462\n",
       "X4             0.2535      0.861      0.294      0.769      -1.463       1.970\n",
       "X5             1.5933      1.669      0.954      0.343      -1.733       4.920\n",
       "==============================================================================\n",
       "Omnibus:                       11.757   Durbin-Watson:                   2.213\n",
       "Prob(Omnibus):                  0.003   Jarque-Bera (JB):               14.171\n",
       "Skew:                          -0.701   Prob(JB):                     0.000837\n",
       "Kurtosis:                       4.512   Cond. No.                         33.9\n",
       "==============================================================================\n",
       "\n",
       "Notes:\n",
       "[1] Standard Errors assume that the covariance matrix of the errors is correctly specified.\n",
       "\"\"\""
      ]
     },
     "execution_count": 15,
     "metadata": {},
     "output_type": "execute_result"
    }
   ],
   "source": [
    "model = sm.OLS(y_train, X_train_wc).fit()\n",
    "model.summary()"
   ]
  },
  {
   "cell_type": "markdown",
   "metadata": {},
   "source": [
    "----"
   ]
  },
  {
   "cell_type": "markdown",
   "metadata": {},
   "source": [
    "# A) Training the models \n",
    "\n",
    "In this section we will train 4 different models:\n",
    "1. Linear regression (model_linear)\n",
    "2. Ridge regression (model_ridge)\n",
    "3. Lasso regression (model_lasso)\n",
    "4. Elastic Net regression (model_net)"
   ]
  },
  {
   "cell_type": "code",
   "execution_count": 16,
   "metadata": {},
   "outputs": [],
   "source": [
    "from sklearn.linear_model import LinearRegression, Ridge,RidgeCV, Lasso, LassoCV, ElasticNet, ElasticNetCV"
   ]
  },
  {
   "cell_type": "code",
   "execution_count": 17,
   "metadata": {},
   "outputs": [],
   "source": [
    "model_linear = LinearRegression()\n",
    "model_ridge = Ridge(alpha=0)\n",
    "model_lasso = Lasso(alpha=0)\n",
    "model_net = ElasticNet(alpha=0)"
   ]
  },
  {
   "cell_type": "code",
   "execution_count": 18,
   "metadata": {},
   "outputs": [],
   "source": [
    "y_hat_linear= model_linear.fit(X_train, y_train).predict(X_test)\n",
    "y_hat_ridge = model_ridge.fit(X_train, y_train).predict(X_test)\n",
    "y_hat_lasso = model_lasso.fit(X_train, y_train).predict(X_test)\n",
    "y_hat_net   = model_net.fit(X_train, y_train).predict(X_test)"
   ]
  },
  {
   "cell_type": "code",
   "execution_count": 19,
   "metadata": {},
   "outputs": [
    {
     "data": {
      "text/html": [
       "<div>\n",
       "<style scoped>\n",
       "    .dataframe tbody tr th:only-of-type {\n",
       "        vertical-align: middle;\n",
       "    }\n",
       "\n",
       "    .dataframe tbody tr th {\n",
       "        vertical-align: top;\n",
       "    }\n",
       "\n",
       "    .dataframe thead th {\n",
       "        text-align: right;\n",
       "    }\n",
       "</style>\n",
       "<table border=\"1\" class=\"dataframe\">\n",
       "  <thead>\n",
       "    <tr style=\"text-align: right;\">\n",
       "      <th></th>\n",
       "      <th>y_test</th>\n",
       "      <th>y_hat_linear</th>\n",
       "      <th>y_hat_ridge</th>\n",
       "      <th>y_hat_lasso</th>\n",
       "      <th>y_hat_net</th>\n",
       "    </tr>\n",
       "  </thead>\n",
       "  <tbody>\n",
       "    <tr>\n",
       "      <th>88</th>\n",
       "      <td>1.307243</td>\n",
       "      <td>0.171067</td>\n",
       "      <td>0.171067</td>\n",
       "      <td>0.171067</td>\n",
       "      <td>0.171067</td>\n",
       "    </tr>\n",
       "    <tr>\n",
       "      <th>4</th>\n",
       "      <td>-0.404102</td>\n",
       "      <td>-0.079686</td>\n",
       "      <td>-0.079686</td>\n",
       "      <td>-0.079686</td>\n",
       "      <td>-0.079686</td>\n",
       "    </tr>\n",
       "    <tr>\n",
       "      <th>62</th>\n",
       "      <td>-1.055680</td>\n",
       "      <td>-0.180921</td>\n",
       "      <td>-0.180921</td>\n",
       "      <td>-0.180921</td>\n",
       "      <td>-0.180921</td>\n",
       "    </tr>\n",
       "    <tr>\n",
       "      <th>63</th>\n",
       "      <td>2.538916</td>\n",
       "      <td>2.344482</td>\n",
       "      <td>2.344482</td>\n",
       "      <td>2.344482</td>\n",
       "      <td>2.344482</td>\n",
       "    </tr>\n",
       "    <tr>\n",
       "      <th>48</th>\n",
       "      <td>1.144605</td>\n",
       "      <td>-0.078630</td>\n",
       "      <td>-0.078630</td>\n",
       "      <td>-0.078630</td>\n",
       "      <td>-0.078630</td>\n",
       "    </tr>\n",
       "  </tbody>\n",
       "</table>\n",
       "</div>"
      ],
      "text/plain": [
       "      y_test  y_hat_linear  y_hat_ridge  y_hat_lasso  y_hat_net\n",
       "88  1.307243      0.171067     0.171067     0.171067   0.171067\n",
       "4  -0.404102     -0.079686    -0.079686    -0.079686  -0.079686\n",
       "62 -1.055680     -0.180921    -0.180921    -0.180921  -0.180921\n",
       "63  2.538916      2.344482     2.344482     2.344482   2.344482\n",
       "48  1.144605     -0.078630    -0.078630    -0.078630  -0.078630"
      ]
     },
     "execution_count": 19,
     "metadata": {},
     "output_type": "execute_result"
    }
   ],
   "source": [
    "df_predictions = pd.DataFrame({'y_test':y_test,\n",
    "                               'y_hat_linear':y_hat_linear,\n",
    "                               'y_hat_ridge':y_hat_ridge,\n",
    "                               'y_hat_lasso':y_hat_lasso,\n",
    "                               'y_hat_net':y_hat_net})\n",
    "df_predictions.head()"
   ]
  },
  {
   "cell_type": "markdown",
   "metadata": {},
   "source": [
    "### coefficients"
   ]
  },
  {
   "cell_type": "code",
   "execution_count": 20,
   "metadata": {},
   "outputs": [
    {
     "data": {
      "text/plain": [
       "Index(['X1', 'X2', 'X3', 'X4', 'X5'], dtype='object')"
      ]
     },
     "execution_count": 20,
     "metadata": {},
     "output_type": "execute_result"
    }
   ],
   "source": [
    "df.drop('y', axis=1, inplace=False).columns"
   ]
  },
  {
   "cell_type": "code",
   "execution_count": 21,
   "metadata": {},
   "outputs": [
    {
     "data": {
      "text/html": [
       "<div>\n",
       "<style scoped>\n",
       "    .dataframe tbody tr th:only-of-type {\n",
       "        vertical-align: middle;\n",
       "    }\n",
       "\n",
       "    .dataframe tbody tr th {\n",
       "        vertical-align: top;\n",
       "    }\n",
       "\n",
       "    .dataframe thead th {\n",
       "        text-align: right;\n",
       "    }\n",
       "</style>\n",
       "<table border=\"1\" class=\"dataframe\">\n",
       "  <thead>\n",
       "    <tr style=\"text-align: right;\">\n",
       "      <th></th>\n",
       "      <th>Features</th>\n",
       "      <th>model_lin</th>\n",
       "      <th>model_ridge</th>\n",
       "      <th>model_lasso</th>\n",
       "      <th>model_net</th>\n",
       "    </tr>\n",
       "  </thead>\n",
       "  <tbody>\n",
       "    <tr>\n",
       "      <th>0</th>\n",
       "      <td>X1</td>\n",
       "      <td>0.537047</td>\n",
       "      <td>0.537047</td>\n",
       "      <td>0.537047</td>\n",
       "      <td>0.537047</td>\n",
       "    </tr>\n",
       "    <tr>\n",
       "      <th>1</th>\n",
       "      <td>X2</td>\n",
       "      <td>0.103655</td>\n",
       "      <td>0.103655</td>\n",
       "      <td>0.103655</td>\n",
       "      <td>0.103655</td>\n",
       "    </tr>\n",
       "    <tr>\n",
       "      <th>2</th>\n",
       "      <td>X3</td>\n",
       "      <td>-2.133872</td>\n",
       "      <td>-2.133872</td>\n",
       "      <td>-2.133872</td>\n",
       "      <td>-2.133872</td>\n",
       "    </tr>\n",
       "    <tr>\n",
       "      <th>3</th>\n",
       "      <td>X4</td>\n",
       "      <td>0.253492</td>\n",
       "      <td>0.253492</td>\n",
       "      <td>0.253492</td>\n",
       "      <td>0.253492</td>\n",
       "    </tr>\n",
       "    <tr>\n",
       "      <th>4</th>\n",
       "      <td>X5</td>\n",
       "      <td>1.593336</td>\n",
       "      <td>1.593336</td>\n",
       "      <td>1.593336</td>\n",
       "      <td>1.593336</td>\n",
       "    </tr>\n",
       "  </tbody>\n",
       "</table>\n",
       "</div>"
      ],
      "text/plain": [
       "  Features  model_lin  model_ridge  model_lasso  model_net\n",
       "0       X1   0.537047     0.537047     0.537047   0.537047\n",
       "1       X2   0.103655     0.103655     0.103655   0.103655\n",
       "2       X3  -2.133872    -2.133872    -2.133872  -2.133872\n",
       "3       X4   0.253492     0.253492     0.253492   0.253492\n",
       "4       X5   1.593336     1.593336     1.593336   1.593336"
      ]
     },
     "execution_count": 21,
     "metadata": {},
     "output_type": "execute_result"
    }
   ],
   "source": [
    "coefficients = pd.DataFrame({'Features':df.drop('y', axis=1, inplace=False).columns})\n",
    "coefficients['model_lin']= model_linear.coef_\n",
    "coefficients['model_ridge']= model_ridge.coef_\n",
    "coefficients['model_lasso']= model_lasso.coef_\n",
    "coefficients['model_net']= model_net.coef_\n",
    "coefficients"
   ]
  },
  {
   "cell_type": "markdown",
   "metadata": {},
   "source": [
    "Exercise: Why do you think if $\\alpha = 0$, all the 4 model coefficients are the same? "
   ]
  },
  {
   "cell_type": "markdown",
   "metadata": {},
   "source": [
    "----"
   ]
  },
  {
   "cell_type": "markdown",
   "metadata": {},
   "source": [
    "### Performance in the test set"
   ]
  },
  {
   "cell_type": "code",
   "execution_count": 22,
   "metadata": {},
   "outputs": [
    {
     "data": {
      "text/plain": [
       "2.037"
      ]
     },
     "execution_count": 22,
     "metadata": {},
     "output_type": "execute_result"
    }
   ],
   "source": [
    "MSE_test_lin = np.mean(np.square(df_predictions['y_test'] - df_predictions['y_hat_linear']))\n",
    "RMSE_test_lin = np.sqrt(MSE_test_lin)\n",
    "np.round(RMSE_test_lin,3)"
   ]
  },
  {
   "cell_type": "code",
   "execution_count": 23,
   "metadata": {},
   "outputs": [
    {
     "data": {
      "text/plain": [
       "2.037"
      ]
     },
     "execution_count": 23,
     "metadata": {},
     "output_type": "execute_result"
    }
   ],
   "source": [
    "MSE_test_ridge = np.mean(np.square(df_predictions['y_test'] - df_predictions['y_hat_ridge']))\n",
    "RMSE_test_ridge = np.sqrt(MSE_test_ridge)\n",
    "np.round(RMSE_test_ridge,3)"
   ]
  },
  {
   "cell_type": "code",
   "execution_count": 24,
   "metadata": {},
   "outputs": [
    {
     "data": {
      "text/plain": [
       "2.037"
      ]
     },
     "execution_count": 24,
     "metadata": {},
     "output_type": "execute_result"
    }
   ],
   "source": [
    "MSE_test_lasso = np.mean(np.square(df_predictions['y_test'] - df_predictions['y_hat_lasso']))\n",
    "RMSE_test_lasso = np.sqrt(MSE_test_lasso)\n",
    "np.round(RMSE_test_lasso,3)"
   ]
  },
  {
   "cell_type": "code",
   "execution_count": 25,
   "metadata": {},
   "outputs": [
    {
     "data": {
      "text/plain": [
       "2.037"
      ]
     },
     "execution_count": 25,
     "metadata": {},
     "output_type": "execute_result"
    }
   ],
   "source": [
    "MSE_test_net = np.mean(np.square(df_predictions['y_test'] - df_predictions['y_hat_net']))\n",
    "RMSE_test_net = np.sqrt(MSE_test_net)\n",
    "np.round(RMSE_test_net,3)"
   ]
  },
  {
   "cell_type": "markdown",
   "metadata": {},
   "source": [
    "-------------"
   ]
  },
  {
   "cell_type": "markdown",
   "metadata": {},
   "source": [
    "### Plotting the regression coefficients vs alphas:"
   ]
  },
  {
   "cell_type": "markdown",
   "metadata": {},
   "source": [
    "#### 1) Ridge regression coefficients vs alpha"
   ]
  },
  {
   "cell_type": "code",
   "execution_count": 26,
   "metadata": {},
   "outputs": [
    {
     "data": {
      "image/png": "[encoded data removed]",
      "text/plain": [
       "<Figure size 864x360 with 1 Axes>"
      ]
     },
     "metadata": {},
     "output_type": "display_data"
    }
   ],
   "source": [
    "alpha_ridge = 10**np.linspace(-2,4,100)\n",
    "plt.figure(figsize=(12,5))\n",
    "plt.plot(alpha_ridge,'or' )\n",
    "plt.xlabel('steps')\n",
    "plt.ylabel('alpha (lambda)')\n",
    "plt.show()"
   ]
  },
  {
   "cell_type": "code",
   "execution_count": 27,
   "metadata": {},
   "outputs": [
    {
     "data": {
      "text/plain": [
       "(100, 5)"
      ]
     },
     "execution_count": 27,
     "metadata": {},
     "output_type": "execute_result"
    }
   ],
   "source": [
    "ridge = Ridge()\n",
    "coefs_ridge = []\n",
    "\n",
    "for i in alpha_ridge:\n",
    "    ridge.set_params(alpha = i)\n",
    "    ridge.fit(X_train, y_train)\n",
    "    coefs_ridge.append(ridge.coef_)\n",
    "    \n",
    "np.shape(coefs_ridge)"
   ]
  },
  {
   "cell_type": "code",
   "execution_count": 28,
   "metadata": {},
   "outputs": [
    {
     "data": {
      "image/png": "[encoded data removed]",
      "text/plain": [
       "<Figure size 864x720 with 1 Axes>"
      ]
     },
     "metadata": {},
     "output_type": "display_data"
    }
   ],
   "source": [
    "plt.figure(figsize=(12,10))\n",
    "ax = plt.gca()\n",
    "ax.plot(alpha_ridge, coefs_ridge)\n",
    "ax.set_xscale('log')\n",
    "plt.axis('tight')\n",
    "plt.xlabel('alpha')\n",
    "plt.ylabel('weights: scaled coefficients')\n",
    "plt.title('Ridge regression coefficients Vs. alpha')\n",
    "plt.legend(df.drop('y',axis=1, inplace=False).columns)\n",
    "\n",
    "plt.show()"
   ]
  },
  {
   "cell_type": "markdown",
   "metadata": {},
   "source": [
    "---"
   ]
  },
  {
   "cell_type": "markdown",
   "metadata": {},
   "source": [
    "#### 2) Lasso regression coefficients vs alpha"
   ]
  },
  {
   "cell_type": "code",
   "execution_count": 29,
   "metadata": {},
   "outputs": [],
   "source": [
    "alpha_lasso = 10**np.linspace(-3,1,100)"
   ]
  },
  {
   "cell_type": "code",
   "execution_count": 30,
   "metadata": {},
   "outputs": [
    {
     "data": {
      "text/plain": [
       "(100, 5)"
      ]
     },
     "execution_count": 30,
     "metadata": {},
     "output_type": "execute_result"
    }
   ],
   "source": [
    "lasso = Lasso()\n",
    "coefs_lasso = []\n",
    "\n",
    "for i in alpha_lasso:\n",
    "    lasso.set_params(alpha = i)\n",
    "    lasso.fit(X_train, y_train)\n",
    "    coefs_lasso.append(lasso.coef_)\n",
    "    \n",
    "np.shape(coefs_lasso)"
   ]
  },
  {
   "cell_type": "code",
   "execution_count": 31,
   "metadata": {},
   "outputs": [
    {
     "data": {
      "image/png": "[encoded data removed]",
      "text/plain": [
       "<Figure size 864x720 with 1 Axes>"
      ]
     },
     "metadata": {},
     "output_type": "display_data"
    }
   ],
   "source": [
    "plt.figure(figsize=(12,10))\n",
    "ax = plt.gca()\n",
    "ax.plot(alpha_lasso, coefs_lasso)\n",
    "ax.set_xscale('log')\n",
    "plt.axis('tight')\n",
    "plt.xlabel('alpha')\n",
    "plt.ylabel('weights: scaled coefficients')\n",
    "plt.title('Lasso regression coefficients Vs. alpha')\n",
    "plt.legend(df.drop('y',axis=1, inplace=False).columns)\n",
    "\n",
    "plt.show()"
   ]
  },
  {
   "cell_type": "markdown",
   "metadata": {},
   "source": [
    "---"
   ]
  },
  {
   "cell_type": "markdown",
   "metadata": {},
   "source": [
    "#### 3) Elastic Net regression coefficients vs alpha"
   ]
  },
  {
   "cell_type": "code",
   "execution_count": 32,
   "metadata": {},
   "outputs": [],
   "source": [
    "alpha_elasticnet = 10**np.linspace(-3,2,100)"
   ]
  },
  {
   "cell_type": "code",
   "execution_count": 33,
   "metadata": {},
   "outputs": [
    {
     "data": {
      "text/plain": [
       "(100, 5)"
      ]
     },
     "execution_count": 33,
     "metadata": {},
     "output_type": "execute_result"
    }
   ],
   "source": [
    "elasticnet = ElasticNet()\n",
    "coefs_elasticnet = []\n",
    "\n",
    "for i in alpha_elasticnet:\n",
    "    elasticnet.set_params(alpha = i)\n",
    "    elasticnet.fit(X_train, y_train)\n",
    "    coefs_elasticnet.append(elasticnet.coef_)\n",
    "    \n",
    "np.shape(coefs_elasticnet)"
   ]
  },
  {
   "cell_type": "code",
   "execution_count": 34,
   "metadata": {},
   "outputs": [
    {
     "data": {
      "image/png": "[encoded data removed]",
      "text/plain": [
       "<Figure size 864x720 with 1 Axes>"
      ]
     },
     "metadata": {},
     "output_type": "display_data"
    }
   ],
   "source": [
    "plt.figure(figsize=(12,10))\n",
    "ax = plt.gca()\n",
    "ax.plot(alpha_elasticnet, coefs_elasticnet)\n",
    "ax.set_xscale('log')\n",
    "plt.axis('tight')\n",
    "plt.xlabel('alpha')\n",
    "plt.ylabel('weights: scaled coefficients')\n",
    "plt.title('Elastic Net regression coefficients Vs. alpha')\n",
    "plt.legend(df.drop('y',axis=1, inplace=False).columns)\n",
    "\n",
    "plt.show()"
   ]
  },
  {
   "cell_type": "markdown",
   "metadata": {},
   "source": [
    "----"
   ]
  },
  {
   "cell_type": "markdown",
   "metadata": {},
   "source": [
    "## Cross Validation \n",
    "\n",
    "Let's use cross validation to find the optimal Lambdas (alphas) for different models. "
   ]
  },
  {
   "cell_type": "markdown",
   "metadata": {},
   "source": [
    "#### 1) Optimal alpha for Ridge regression"
   ]
  },
  {
   "cell_type": "code",
   "execution_count": 35,
   "metadata": {},
   "outputs": [
    {
     "data": {
      "text/plain": [
       "1.0"
      ]
     },
     "execution_count": 35,
     "metadata": {},
     "output_type": "execute_result"
    }
   ],
   "source": [
    "ridgecv = RidgeCV()\n",
    "ridgecv.fit(X_train, y_train)\n",
    "ridgecv.alpha_"
   ]
  },
  {
   "cell_type": "code",
   "execution_count": 36,
   "metadata": {},
   "outputs": [],
   "source": [
    "alpha_ridge_opt = ridgecv.alpha_"
   ]
  },
  {
   "cell_type": "markdown",
   "metadata": {},
   "source": [
    "----"
   ]
  },
  {
   "cell_type": "markdown",
   "metadata": {},
   "source": [
    "#### 2) Optimal alpha for Lasso regression"
   ]
  },
  {
   "cell_type": "code",
   "execution_count": 37,
   "metadata": {},
   "outputs": [
    {
     "data": {
      "text/plain": [
       "0.004564470133023309"
      ]
     },
     "execution_count": 37,
     "metadata": {},
     "output_type": "execute_result"
    }
   ],
   "source": [
    "lassocv = LassoCV()\n",
    "lassocv.fit(X_train, y_train)\n",
    "lassocv.alpha_"
   ]
  },
  {
   "cell_type": "code",
   "execution_count": 38,
   "metadata": {},
   "outputs": [],
   "source": [
    "alpha_lasso_opt = lassocv.alpha_"
   ]
  },
  {
   "cell_type": "markdown",
   "metadata": {},
   "source": [
    "----"
   ]
  },
  {
   "cell_type": "markdown",
   "metadata": {},
   "source": [
    "#### 3) Optimal alpha for Elastic Net regression"
   ]
  },
  {
   "cell_type": "code",
   "execution_count": 39,
   "metadata": {},
   "outputs": [
    {
     "data": {
      "text/plain": [
       "0.006440286888331817"
      ]
     },
     "execution_count": 39,
     "metadata": {},
     "output_type": "execute_result"
    }
   ],
   "source": [
    "elasticnetcv = ElasticNetCV()\n",
    "elasticnetcv.fit(X_train, y_train)\n",
    "elasticnetcv.alpha_"
   ]
  },
  {
   "cell_type": "code",
   "execution_count": 40,
   "metadata": {},
   "outputs": [
    {
     "data": {
      "text/plain": [
       "0.5"
      ]
     },
     "execution_count": 40,
     "metadata": {},
     "output_type": "execute_result"
    }
   ],
   "source": [
    "elasticnetcv.l1_ratio_"
   ]
  },
  {
   "cell_type": "code",
   "execution_count": 41,
   "metadata": {},
   "outputs": [],
   "source": [
    "alpha_elasticnet_opt = elasticnetcv.alpha_"
   ]
  },
  {
   "cell_type": "code",
   "execution_count": 42,
   "metadata": {},
   "outputs": [],
   "source": [
    "# let's try to visualize it for fun! \n",
    "from sklearn.model_selection import cross_val_score\n",
    "import sklearn.metrics"
   ]
  },
  {
   "cell_type": "code",
   "execution_count": 43,
   "metadata": {},
   "outputs": [
    {
     "data": {
      "text/html": [
       "<div>\n",
       "<style scoped>\n",
       "    .dataframe tbody tr th:only-of-type {\n",
       "        vertical-align: middle;\n",
       "    }\n",
       "\n",
       "    .dataframe tbody tr th {\n",
       "        vertical-align: top;\n",
       "    }\n",
       "\n",
       "    .dataframe thead th {\n",
       "        text-align: right;\n",
       "    }\n",
       "</style>\n",
       "<table border=\"1\" class=\"dataframe\">\n",
       "  <thead>\n",
       "    <tr style=\"text-align: right;\">\n",
       "      <th></th>\n",
       "      <th>lambda_ElasticNet</th>\n",
       "      <th>RMSE_CV</th>\n",
       "    </tr>\n",
       "  </thead>\n",
       "  <tbody>\n",
       "    <tr>\n",
       "      <th>0</th>\n",
       "      <td>0.000</td>\n",
       "      <td>0.683684</td>\n",
       "    </tr>\n",
       "    <tr>\n",
       "      <th>1</th>\n",
       "      <td>0.001</td>\n",
       "      <td>0.583633</td>\n",
       "    </tr>\n",
       "    <tr>\n",
       "      <th>2</th>\n",
       "      <td>0.002</td>\n",
       "      <td>0.580799</td>\n",
       "    </tr>\n",
       "    <tr>\n",
       "      <th>3</th>\n",
       "      <td>0.003</td>\n",
       "      <td>0.578804</td>\n",
       "    </tr>\n",
       "    <tr>\n",
       "      <th>4</th>\n",
       "      <td>0.004</td>\n",
       "      <td>0.576902</td>\n",
       "    </tr>\n",
       "  </tbody>\n",
       "</table>\n",
       "</div>"
      ],
      "text/plain": [
       "   lambda_ElasticNet   RMSE_CV\n",
       "0              0.000  0.683684\n",
       "1              0.001  0.583633\n",
       "2              0.002  0.580799\n",
       "3              0.003  0.578804\n",
       "4              0.004  0.576902"
      ]
     },
     "execution_count": 43,
     "metadata": {},
     "output_type": "execute_result"
    }
   ],
   "source": [
    "RMSE_CV=[]\n",
    "iterator= np.arange(0.0,0.02,0.001)\n",
    "for i in iterator:\n",
    "    MSE = -cross_val_score(estimator = ElasticNet(alpha=i), X = X_train, y = y_train, cv = 5 , scoring=\"neg_mean_squared_error\" )\n",
    "    RMSE_CV.append(np.sqrt(MSE).mean())\n",
    "    \n",
    "output = pd.DataFrame(list(iterator), columns=['lambda_ElasticNet'])\n",
    "output['RMSE_CV']=RMSE_CV\n",
    "\n",
    "output.head()"
   ]
  },
  {
   "cell_type": "code",
   "execution_count": 44,
   "metadata": {},
   "outputs": [
    {
     "data": {
      "text/plain": [
       "7"
      ]
     },
     "execution_count": 44,
     "metadata": {},
     "output_type": "execute_result"
    }
   ],
   "source": [
    "output['RMSE_CV'].idxmin()"
   ]
  },
  {
   "cell_type": "code",
   "execution_count": 45,
   "metadata": {},
   "outputs": [
    {
     "data": {
      "text/plain": [
       "0.007"
      ]
     },
     "execution_count": 45,
     "metadata": {},
     "output_type": "execute_result"
    }
   ],
   "source": [
    "output['lambda_ElasticNet'][output['RMSE_CV'].idxmin()]"
   ]
  },
  {
   "cell_type": "code",
   "execution_count": 46,
   "metadata": {},
   "outputs": [
    {
     "data": {
      "image/png": "[encoded data removed]",
      "text/plain": [
       "<Figure size 432x288 with 1 Axes>"
      ]
     },
     "metadata": {},
     "output_type": "display_data"
    }
   ],
   "source": [
    "sns.lineplot(x='lambda_ElasticNet', y='RMSE_CV', data=output , color='r', label=\"RMSE_CV vs lambda_ridge\")\n",
    "plt.show()"
   ]
  },
  {
   "cell_type": "markdown",
   "metadata": {},
   "source": [
    "----"
   ]
  },
  {
   "cell_type": "markdown",
   "metadata": {},
   "source": [
    "#### Refit the models!\n",
    "\n",
    "***Exercise***: Now go back and refit the 3 models with the optimal alphas! \n",
    "- compare the RMSE_test?\n",
    "- were you able to beat the linear regression model?\n",
    "- what do you conclude?"
   ]
  },
  {
   "cell_type": "markdown",
   "metadata": {},
   "source": [
    "----"
   ]
  },
  {
   "cell_type": "markdown",
   "metadata": {},
   "source": [
    "###  Additional links:\n",
    "1- Underfitting vs Overfitting: https://scikit-learn.org/stable/auto_examples/model_selection/plot_underfitting_overfitting.html#sphx-glr-auto-examples-model-selection-plot-underfitting-overfitting-py\n",
    "\n",
    "2- A complete example: https://towardsdatascience.com/from-linear-regression-to-ridge-regression-the-lasso-and-the-elastic-net-4eaecaf5f7e6\n",
    "\n",
    "3- Standardizing features in Python:https://scikit-learn.org/stable/modules/generated/sklearn.preprocessing.StandardScaler.html\n"
   ]
  }
 ],
 "metadata": {
  "kernelspec": {
   "display_name": "Python 3",
   "language": "python",
   "name": "python3"
  },
  "language_info": {
   "codemirror_mode": {
    "name": "ipython",
    "version": 3
   },
   "file_extension": ".py",
   "mimetype": "text/x-python",
   "name": "python",
   "nbconvert_exporter": "python",
   "pygments_lexer": "ipython3",
   "version": "3.8.8"
  }
 },
 "nbformat": 4,
 "nbformat_minor": 4
}
