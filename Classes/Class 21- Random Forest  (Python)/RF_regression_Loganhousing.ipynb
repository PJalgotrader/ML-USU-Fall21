{
 "cells": [
  {
   "cell_type": "markdown",
   "metadata": {},
   "source": [
    "<img src=\"logo.jpg\" />\n",
    "\n",
    "## [Prof. Pedram Jahangiry](https://huntsman.usu.edu/directory/jahangiry-pedram) \n",
    "[GitHub account](https://github.com/PJalgotrader) \n",
    "\n",
    "[YouTube Channel](https://www.youtube.com/channel/UCNDElcuuyX-2pSatVBDpJJQ/playlists) "
   ]
  },
  {
   "cell_type": "markdown",
   "metadata": {},
   "source": [
    "# Random Forest Regression"
   ]
  },
  {
   "cell_type": "code",
   "execution_count": 2,
   "metadata": {},
   "outputs": [],
   "source": [
    "import numpy as np\n",
    "import pandas as pd\n",
    "import matplotlib.pyplot as plt\n",
    "import seaborn as sns\n",
    "sns.set()  #if you want to use seaborn themes with matplotlib functions\n",
    "import statsmodels.api as sm\n",
    "\n",
    "import warnings\n",
    "warnings.filterwarnings('ignore')\n"
   ]
  },
  {
   "cell_type": "code",
   "execution_count": 3,
   "metadata": {},
   "outputs": [],
   "source": [
    "df=pd.read_csv('Logan_housing.csv')"
   ]
  },
  {
   "cell_type": "code",
   "execution_count": 4,
   "metadata": {},
   "outputs": [
    {
     "data": {
      "text/html": [
       "<div>\n",
       "<style scoped>\n",
       "    .dataframe tbody tr th:only-of-type {\n",
       "        vertical-align: middle;\n",
       "    }\n",
       "\n",
       "    .dataframe tbody tr th {\n",
       "        vertical-align: top;\n",
       "    }\n",
       "\n",
       "    .dataframe thead th {\n",
       "        text-align: right;\n",
       "    }\n",
       "</style>\n",
       "<table border=\"1\" class=\"dataframe\">\n",
       "  <thead>\n",
       "    <tr style=\"text-align: right;\">\n",
       "      <th></th>\n",
       "      <th>Sold Price</th>\n",
       "      <th>DOM</th>\n",
       "      <th>Garage Capacity</th>\n",
       "      <th>HOA Fee</th>\n",
       "      <th>Irregular Shape</th>\n",
       "      <th>Quadrant</th>\n",
       "      <th>School District</th>\n",
       "      <th>Sold Terms</th>\n",
       "      <th>Total Bedrooms</th>\n",
       "      <th>Total Bathrooms</th>\n",
       "      <th>Total Square Feet</th>\n",
       "      <th>Year Built</th>\n",
       "      <th>Zip</th>\n",
       "      <th>year_sold</th>\n",
       "      <th>month_sold</th>\n",
       "      <th>built_after_2000</th>\n",
       "    </tr>\n",
       "  </thead>\n",
       "  <tbody>\n",
       "    <tr>\n",
       "      <th>0</th>\n",
       "      <td>176000</td>\n",
       "      <td>5</td>\n",
       "      <td>2</td>\n",
       "      <td>0</td>\n",
       "      <td>No</td>\n",
       "      <td>NW</td>\n",
       "      <td>Cache</td>\n",
       "      <td>FHA</td>\n",
       "      <td>3</td>\n",
       "      <td>1</td>\n",
       "      <td>1031</td>\n",
       "      <td>1974</td>\n",
       "      <td>84335</td>\n",
       "      <td>2018</td>\n",
       "      <td>9</td>\n",
       "      <td>0</td>\n",
       "    </tr>\n",
       "    <tr>\n",
       "      <th>1</th>\n",
       "      <td>225000</td>\n",
       "      <td>6</td>\n",
       "      <td>2</td>\n",
       "      <td>0</td>\n",
       "      <td>No</td>\n",
       "      <td>NW</td>\n",
       "      <td>Cache</td>\n",
       "      <td>Conventional</td>\n",
       "      <td>4</td>\n",
       "      <td>2</td>\n",
       "      <td>2091</td>\n",
       "      <td>1995</td>\n",
       "      <td>84335</td>\n",
       "      <td>2018</td>\n",
       "      <td>7</td>\n",
       "      <td>0</td>\n",
       "    </tr>\n",
       "    <tr>\n",
       "      <th>2</th>\n",
       "      <td>274900</td>\n",
       "      <td>14</td>\n",
       "      <td>2</td>\n",
       "      <td>0</td>\n",
       "      <td>No</td>\n",
       "      <td>NW</td>\n",
       "      <td>Cache</td>\n",
       "      <td>Conventional</td>\n",
       "      <td>3</td>\n",
       "      <td>1</td>\n",
       "      <td>2016</td>\n",
       "      <td>1980</td>\n",
       "      <td>84335</td>\n",
       "      <td>2018</td>\n",
       "      <td>11</td>\n",
       "      <td>0</td>\n",
       "    </tr>\n",
       "    <tr>\n",
       "      <th>3</th>\n",
       "      <td>175000</td>\n",
       "      <td>16</td>\n",
       "      <td>1</td>\n",
       "      <td>0</td>\n",
       "      <td>No</td>\n",
       "      <td>NW</td>\n",
       "      <td>Cache</td>\n",
       "      <td>USDA Rural Development</td>\n",
       "      <td>4</td>\n",
       "      <td>1</td>\n",
       "      <td>1920</td>\n",
       "      <td>1978</td>\n",
       "      <td>84335</td>\n",
       "      <td>2018</td>\n",
       "      <td>6</td>\n",
       "      <td>0</td>\n",
       "    </tr>\n",
       "    <tr>\n",
       "      <th>4</th>\n",
       "      <td>179000</td>\n",
       "      <td>29</td>\n",
       "      <td>0</td>\n",
       "      <td>0</td>\n",
       "      <td>No</td>\n",
       "      <td>NW</td>\n",
       "      <td>Cache</td>\n",
       "      <td>Cash</td>\n",
       "      <td>4</td>\n",
       "      <td>2</td>\n",
       "      <td>1329</td>\n",
       "      <td>1976</td>\n",
       "      <td>84335</td>\n",
       "      <td>2018</td>\n",
       "      <td>9</td>\n",
       "      <td>0</td>\n",
       "    </tr>\n",
       "    <tr>\n",
       "      <th>5</th>\n",
       "      <td>299900</td>\n",
       "      <td>130</td>\n",
       "      <td>2</td>\n",
       "      <td>0</td>\n",
       "      <td>No</td>\n",
       "      <td>NW</td>\n",
       "      <td>Cache</td>\n",
       "      <td>Conventional</td>\n",
       "      <td>6</td>\n",
       "      <td>3</td>\n",
       "      <td>2765</td>\n",
       "      <td>1926</td>\n",
       "      <td>84335</td>\n",
       "      <td>2018</td>\n",
       "      <td>9</td>\n",
       "      <td>0</td>\n",
       "    </tr>\n",
       "    <tr>\n",
       "      <th>6</th>\n",
       "      <td>424000</td>\n",
       "      <td>463</td>\n",
       "      <td>6</td>\n",
       "      <td>0</td>\n",
       "      <td>No</td>\n",
       "      <td>NW</td>\n",
       "      <td>Cache</td>\n",
       "      <td>Conventional</td>\n",
       "      <td>4</td>\n",
       "      <td>4</td>\n",
       "      <td>5000</td>\n",
       "      <td>1933</td>\n",
       "      <td>84335</td>\n",
       "      <td>2019</td>\n",
       "      <td>12</td>\n",
       "      <td>0</td>\n",
       "    </tr>\n",
       "    <tr>\n",
       "      <th>7</th>\n",
       "      <td>775000</td>\n",
       "      <td>37</td>\n",
       "      <td>2</td>\n",
       "      <td>0</td>\n",
       "      <td>No</td>\n",
       "      <td>SE</td>\n",
       "      <td>Cache</td>\n",
       "      <td>Conventional</td>\n",
       "      <td>5</td>\n",
       "      <td>4</td>\n",
       "      <td>5180</td>\n",
       "      <td>1999</td>\n",
       "      <td>84328</td>\n",
       "      <td>2020</td>\n",
       "      <td>8</td>\n",
       "      <td>0</td>\n",
       "    </tr>\n",
       "    <tr>\n",
       "      <th>8</th>\n",
       "      <td>611000</td>\n",
       "      <td>38</td>\n",
       "      <td>2</td>\n",
       "      <td>0</td>\n",
       "      <td>No</td>\n",
       "      <td>SE</td>\n",
       "      <td>Cache</td>\n",
       "      <td>VA</td>\n",
       "      <td>5</td>\n",
       "      <td>3</td>\n",
       "      <td>4308</td>\n",
       "      <td>2015</td>\n",
       "      <td>84328</td>\n",
       "      <td>2020</td>\n",
       "      <td>11</td>\n",
       "      <td>1</td>\n",
       "    </tr>\n",
       "    <tr>\n",
       "      <th>9</th>\n",
       "      <td>1131310</td>\n",
       "      <td>115</td>\n",
       "      <td>2</td>\n",
       "      <td>0</td>\n",
       "      <td>Yes</td>\n",
       "      <td>SE</td>\n",
       "      <td>Cache</td>\n",
       "      <td>Cash</td>\n",
       "      <td>4</td>\n",
       "      <td>2</td>\n",
       "      <td>2116</td>\n",
       "      <td>1985</td>\n",
       "      <td>84328</td>\n",
       "      <td>2020</td>\n",
       "      <td>4</td>\n",
       "      <td>0</td>\n",
       "    </tr>\n",
       "  </tbody>\n",
       "</table>\n",
       "</div>"
      ],
      "text/plain": [
       "   Sold Price  DOM  Garage Capacity  HOA Fee Irregular Shape Quadrant  \\\n",
       "0      176000    5                2        0              No       NW   \n",
       "1      225000    6                2        0              No       NW   \n",
       "2      274900   14                2        0              No       NW   \n",
       "3      175000   16                1        0              No       NW   \n",
       "4      179000   29                0        0              No       NW   \n",
       "5      299900  130                2        0              No       NW   \n",
       "6      424000  463                6        0              No       NW   \n",
       "7      775000   37                2        0              No       SE   \n",
       "8      611000   38                2        0              No       SE   \n",
       "9     1131310  115                2        0             Yes       SE   \n",
       "\n",
       "  School District              Sold Terms  Total Bedrooms  Total Bathrooms  \\\n",
       "0           Cache                     FHA               3                1   \n",
       "1           Cache            Conventional               4                2   \n",
       "2           Cache            Conventional               3                1   \n",
       "3           Cache  USDA Rural Development               4                1   \n",
       "4           Cache                    Cash               4                2   \n",
       "5           Cache            Conventional               6                3   \n",
       "6           Cache            Conventional               4                4   \n",
       "7           Cache            Conventional               5                4   \n",
       "8           Cache                      VA               5                3   \n",
       "9           Cache                    Cash               4                2   \n",
       "\n",
       "   Total Square Feet  Year Built    Zip  year_sold  month_sold  \\\n",
       "0               1031        1974  84335       2018           9   \n",
       "1               2091        1995  84335       2018           7   \n",
       "2               2016        1980  84335       2018          11   \n",
       "3               1920        1978  84335       2018           6   \n",
       "4               1329        1976  84335       2018           9   \n",
       "5               2765        1926  84335       2018           9   \n",
       "6               5000        1933  84335       2019          12   \n",
       "7               5180        1999  84328       2020           8   \n",
       "8               4308        2015  84328       2020          11   \n",
       "9               2116        1985  84328       2020           4   \n",
       "\n",
       "   built_after_2000  \n",
       "0                 0  \n",
       "1                 0  \n",
       "2                 0  \n",
       "3                 0  \n",
       "4                 0  \n",
       "5                 0  \n",
       "6                 0  \n",
       "7                 0  \n",
       "8                 1  \n",
       "9                 0  "
      ]
     },
     "execution_count": 4,
     "metadata": {},
     "output_type": "execute_result"
    }
   ],
   "source": [
    "df.head(10)"
   ]
  },
  {
   "cell_type": "code",
   "execution_count": 5,
   "metadata": {},
   "outputs": [
    {
     "name": "stdout",
     "output_type": "stream",
     "text": [
      "<class 'pandas.core.frame.DataFrame'>\n",
      "RangeIndex: 4110 entries, 0 to 4109\n",
      "Data columns (total 16 columns):\n",
      "Sold Price           4110 non-null int64\n",
      "DOM                  4110 non-null int64\n",
      "Garage Capacity      4110 non-null int64\n",
      "HOA Fee              4110 non-null int64\n",
      "Irregular Shape      4110 non-null object\n",
      "Quadrant             4110 non-null object\n",
      "School District      4110 non-null object\n",
      "Sold Terms           4110 non-null object\n",
      "Total Bedrooms       4110 non-null int64\n",
      "Total Bathrooms      4110 non-null int64\n",
      "Total Square Feet    4110 non-null int64\n",
      "Year Built           4110 non-null int64\n",
      "Zip                  4110 non-null int64\n",
      "year_sold            4110 non-null int64\n",
      "month_sold           4110 non-null int64\n",
      "built_after_2000     4110 non-null int64\n",
      "dtypes: int64(12), object(4)\n",
      "memory usage: 513.8+ KB\n"
     ]
    }
   ],
   "source": [
    "df.info()"
   ]
  },
  {
   "cell_type": "markdown",
   "metadata": {},
   "source": [
    "First we need to see if any data is missing"
   ]
  },
  {
   "cell_type": "code",
   "execution_count": 6,
   "metadata": {},
   "outputs": [
    {
     "data": {
      "text/plain": [
       "Sold Price           0.0\n",
       "DOM                  0.0\n",
       "Garage Capacity      0.0\n",
       "HOA Fee              0.0\n",
       "Irregular Shape      0.0\n",
       "Quadrant             0.0\n",
       "School District      0.0\n",
       "Sold Terms           0.0\n",
       "Total Bedrooms       0.0\n",
       "Total Bathrooms      0.0\n",
       "Total Square Feet    0.0\n",
       "Year Built           0.0\n",
       "Zip                  0.0\n",
       "year_sold            0.0\n",
       "month_sold           0.0\n",
       "built_after_2000     0.0\n",
       "dtype: float64"
      ]
     },
     "execution_count": 6,
     "metadata": {},
     "output_type": "execute_result"
    }
   ],
   "source": [
    "df.isnull().sum()/len(df)"
   ]
  },
  {
   "cell_type": "markdown",
   "metadata": {},
   "source": [
    "Looks good!\n",
    "Now let's see if there are any duplicates!"
   ]
  },
  {
   "cell_type": "code",
   "execution_count": 7,
   "metadata": {},
   "outputs": [
    {
     "data": {
      "text/plain": [
       "2"
      ]
     },
     "execution_count": 7,
     "metadata": {},
     "output_type": "execute_result"
    }
   ],
   "source": [
    "sum(df.duplicated())"
   ]
  },
  {
   "cell_type": "code",
   "execution_count": 8,
   "metadata": {},
   "outputs": [],
   "source": [
    "# dropping the duplicates:\n",
    "df.drop_duplicates(inplace=True)"
   ]
  },
  {
   "cell_type": "code",
   "execution_count": 9,
   "metadata": {},
   "outputs": [
    {
     "data": {
      "text/plain": [
       "Sold Price           1217\n",
       "DOM                   248\n",
       "Garage Capacity        14\n",
       "HOA Fee                96\n",
       "Irregular Shape         2\n",
       "Quadrant                4\n",
       "School District         2\n",
       "Sold Terms              6\n",
       "Total Bedrooms          9\n",
       "Total Bathrooms         7\n",
       "Total Square Feet    2009\n",
       "Year Built            136\n",
       "Zip                    16\n",
       "year_sold               3\n",
       "month_sold             12\n",
       "built_after_2000        2\n",
       "dtype: int64"
      ]
     },
     "execution_count": 9,
     "metadata": {},
     "output_type": "execute_result"
    }
   ],
   "source": [
    "df.nunique()"
   ]
  },
  {
   "cell_type": "markdown",
   "metadata": {},
   "source": [
    "---"
   ]
  },
  {
   "cell_type": "markdown",
   "metadata": {},
   "source": [
    "## Encode ordinal categorical features as an integer array.\n",
    "\n",
    "In random forest we don't need to transfer the categorical variables into dummy variables (using one-hot-encoding). However, the algorithm is not able to handel ordinal data. We should transform ordinal categorical variables into quantitative variables. "
   ]
  },
  {
   "cell_type": "code",
   "execution_count": 9,
   "metadata": {},
   "outputs": [
    {
     "data": {
      "text/html": [
       "<div>\n",
       "<style scoped>\n",
       "    .dataframe tbody tr th:only-of-type {\n",
       "        vertical-align: middle;\n",
       "    }\n",
       "\n",
       "    .dataframe tbody tr th {\n",
       "        vertical-align: top;\n",
       "    }\n",
       "\n",
       "    .dataframe thead th {\n",
       "        text-align: right;\n",
       "    }\n",
       "</style>\n",
       "<table border=\"1\" class=\"dataframe\">\n",
       "  <thead>\n",
       "    <tr style=\"text-align: right;\">\n",
       "      <th></th>\n",
       "      <th>Sold Price</th>\n",
       "      <th>DOM</th>\n",
       "      <th>Garage Capacity</th>\n",
       "      <th>HOA Fee</th>\n",
       "      <th>Irregular Shape</th>\n",
       "      <th>Quadrant</th>\n",
       "      <th>School District</th>\n",
       "      <th>Sold Terms</th>\n",
       "      <th>Total Bedrooms</th>\n",
       "      <th>Total Bathrooms</th>\n",
       "      <th>Total Square Feet</th>\n",
       "      <th>Year Built</th>\n",
       "      <th>Zip</th>\n",
       "      <th>year_sold</th>\n",
       "      <th>month_sold</th>\n",
       "      <th>built_after_2000</th>\n",
       "    </tr>\n",
       "  </thead>\n",
       "  <tbody>\n",
       "    <tr>\n",
       "      <th>0</th>\n",
       "      <td>176000</td>\n",
       "      <td>5</td>\n",
       "      <td>2</td>\n",
       "      <td>0</td>\n",
       "      <td>No</td>\n",
       "      <td>NW</td>\n",
       "      <td>Cache</td>\n",
       "      <td>FHA</td>\n",
       "      <td>3</td>\n",
       "      <td>1</td>\n",
       "      <td>1031</td>\n",
       "      <td>1974</td>\n",
       "      <td>84335</td>\n",
       "      <td>2018</td>\n",
       "      <td>9</td>\n",
       "      <td>0</td>\n",
       "    </tr>\n",
       "    <tr>\n",
       "      <th>1</th>\n",
       "      <td>225000</td>\n",
       "      <td>6</td>\n",
       "      <td>2</td>\n",
       "      <td>0</td>\n",
       "      <td>No</td>\n",
       "      <td>NW</td>\n",
       "      <td>Cache</td>\n",
       "      <td>Conventional</td>\n",
       "      <td>4</td>\n",
       "      <td>2</td>\n",
       "      <td>2091</td>\n",
       "      <td>1995</td>\n",
       "      <td>84335</td>\n",
       "      <td>2018</td>\n",
       "      <td>7</td>\n",
       "      <td>0</td>\n",
       "    </tr>\n",
       "    <tr>\n",
       "      <th>2</th>\n",
       "      <td>274900</td>\n",
       "      <td>14</td>\n",
       "      <td>2</td>\n",
       "      <td>0</td>\n",
       "      <td>No</td>\n",
       "      <td>NW</td>\n",
       "      <td>Cache</td>\n",
       "      <td>Conventional</td>\n",
       "      <td>3</td>\n",
       "      <td>1</td>\n",
       "      <td>2016</td>\n",
       "      <td>1980</td>\n",
       "      <td>84335</td>\n",
       "      <td>2018</td>\n",
       "      <td>11</td>\n",
       "      <td>0</td>\n",
       "    </tr>\n",
       "    <tr>\n",
       "      <th>3</th>\n",
       "      <td>175000</td>\n",
       "      <td>16</td>\n",
       "      <td>1</td>\n",
       "      <td>0</td>\n",
       "      <td>No</td>\n",
       "      <td>NW</td>\n",
       "      <td>Cache</td>\n",
       "      <td>USDA Rural Development</td>\n",
       "      <td>4</td>\n",
       "      <td>1</td>\n",
       "      <td>1920</td>\n",
       "      <td>1978</td>\n",
       "      <td>84335</td>\n",
       "      <td>2018</td>\n",
       "      <td>6</td>\n",
       "      <td>0</td>\n",
       "    </tr>\n",
       "    <tr>\n",
       "      <th>4</th>\n",
       "      <td>179000</td>\n",
       "      <td>29</td>\n",
       "      <td>0</td>\n",
       "      <td>0</td>\n",
       "      <td>No</td>\n",
       "      <td>NW</td>\n",
       "      <td>Cache</td>\n",
       "      <td>Cash</td>\n",
       "      <td>4</td>\n",
       "      <td>2</td>\n",
       "      <td>1329</td>\n",
       "      <td>1976</td>\n",
       "      <td>84335</td>\n",
       "      <td>2018</td>\n",
       "      <td>9</td>\n",
       "      <td>0</td>\n",
       "    </tr>\n",
       "  </tbody>\n",
       "</table>\n",
       "</div>"
      ],
      "text/plain": [
       "   Sold Price  DOM  Garage Capacity  HOA Fee Irregular Shape Quadrant  \\\n",
       "0      176000    5                2        0              No       NW   \n",
       "1      225000    6                2        0              No       NW   \n",
       "2      274900   14                2        0              No       NW   \n",
       "3      175000   16                1        0              No       NW   \n",
       "4      179000   29                0        0              No       NW   \n",
       "\n",
       "  School District              Sold Terms  Total Bedrooms  Total Bathrooms  \\\n",
       "0           Cache                     FHA               3                1   \n",
       "1           Cache            Conventional               4                2   \n",
       "2           Cache            Conventional               3                1   \n",
       "3           Cache  USDA Rural Development               4                1   \n",
       "4           Cache                    Cash               4                2   \n",
       "\n",
       "   Total Square Feet  Year Built    Zip  year_sold  month_sold  \\\n",
       "0               1031        1974  84335       2018           9   \n",
       "1               2091        1995  84335       2018           7   \n",
       "2               2016        1980  84335       2018          11   \n",
       "3               1920        1978  84335       2018           6   \n",
       "4               1329        1976  84335       2018           9   \n",
       "\n",
       "   built_after_2000  \n",
       "0                 0  \n",
       "1                 0  \n",
       "2                 0  \n",
       "3                 0  \n",
       "4                 0  "
      ]
     },
     "execution_count": 9,
     "metadata": {},
     "output_type": "execute_result"
    }
   ],
   "source": [
    "df.head()"
   ]
  },
  {
   "cell_type": "code",
   "execution_count": 14,
   "metadata": {},
   "outputs": [],
   "source": [
    "ordinal_categorical = ['Irregular Shape', 'Quadrant', 'School District', 'Sold Terms', 'Zip']"
   ]
  },
  {
   "cell_type": "code",
   "execution_count": 15,
   "metadata": {},
   "outputs": [],
   "source": [
    "from sklearn.preprocessing import OrdinalEncoder"
   ]
  },
  {
   "cell_type": "code",
   "execution_count": 16,
   "metadata": {},
   "outputs": [],
   "source": [
    "enc = OrdinalEncoder()"
   ]
  },
  {
   "cell_type": "code",
   "execution_count": 17,
   "metadata": {},
   "outputs": [],
   "source": [
    "df[ordinal_categorical]= enc.fit_transform(df[ordinal_categorical])"
   ]
  },
  {
   "cell_type": "code",
   "execution_count": 18,
   "metadata": {},
   "outputs": [
    {
     "data": {
      "text/html": [
       "<div>\n",
       "<style scoped>\n",
       "    .dataframe tbody tr th:only-of-type {\n",
       "        vertical-align: middle;\n",
       "    }\n",
       "\n",
       "    .dataframe tbody tr th {\n",
       "        vertical-align: top;\n",
       "    }\n",
       "\n",
       "    .dataframe thead th {\n",
       "        text-align: right;\n",
       "    }\n",
       "</style>\n",
       "<table border=\"1\" class=\"dataframe\">\n",
       "  <thead>\n",
       "    <tr style=\"text-align: right;\">\n",
       "      <th></th>\n",
       "      <th>Sold Price</th>\n",
       "      <th>DOM</th>\n",
       "      <th>Garage Capacity</th>\n",
       "      <th>HOA Fee</th>\n",
       "      <th>Irregular Shape</th>\n",
       "      <th>Quadrant</th>\n",
       "      <th>School District</th>\n",
       "      <th>Sold Terms</th>\n",
       "      <th>Total Bedrooms</th>\n",
       "      <th>Total Bathrooms</th>\n",
       "      <th>Total Square Feet</th>\n",
       "      <th>Year Built</th>\n",
       "      <th>Zip</th>\n",
       "      <th>year_sold</th>\n",
       "      <th>month_sold</th>\n",
       "      <th>built_after_2000</th>\n",
       "    </tr>\n",
       "  </thead>\n",
       "  <tbody>\n",
       "    <tr>\n",
       "      <th>0</th>\n",
       "      <td>176000</td>\n",
       "      <td>5</td>\n",
       "      <td>2</td>\n",
       "      <td>0</td>\n",
       "      <td>0.0</td>\n",
       "      <td>1.0</td>\n",
       "      <td>0.0</td>\n",
       "      <td>2.0</td>\n",
       "      <td>3</td>\n",
       "      <td>1</td>\n",
       "      <td>1031</td>\n",
       "      <td>1974</td>\n",
       "      <td>12.0</td>\n",
       "      <td>2018</td>\n",
       "      <td>9</td>\n",
       "      <td>0</td>\n",
       "    </tr>\n",
       "    <tr>\n",
       "      <th>1</th>\n",
       "      <td>225000</td>\n",
       "      <td>6</td>\n",
       "      <td>2</td>\n",
       "      <td>0</td>\n",
       "      <td>0.0</td>\n",
       "      <td>1.0</td>\n",
       "      <td>0.0</td>\n",
       "      <td>1.0</td>\n",
       "      <td>4</td>\n",
       "      <td>2</td>\n",
       "      <td>2091</td>\n",
       "      <td>1995</td>\n",
       "      <td>12.0</td>\n",
       "      <td>2018</td>\n",
       "      <td>7</td>\n",
       "      <td>0</td>\n",
       "    </tr>\n",
       "    <tr>\n",
       "      <th>2</th>\n",
       "      <td>274900</td>\n",
       "      <td>14</td>\n",
       "      <td>2</td>\n",
       "      <td>0</td>\n",
       "      <td>0.0</td>\n",
       "      <td>1.0</td>\n",
       "      <td>0.0</td>\n",
       "      <td>1.0</td>\n",
       "      <td>3</td>\n",
       "      <td>1</td>\n",
       "      <td>2016</td>\n",
       "      <td>1980</td>\n",
       "      <td>12.0</td>\n",
       "      <td>2018</td>\n",
       "      <td>11</td>\n",
       "      <td>0</td>\n",
       "    </tr>\n",
       "    <tr>\n",
       "      <th>3</th>\n",
       "      <td>175000</td>\n",
       "      <td>16</td>\n",
       "      <td>1</td>\n",
       "      <td>0</td>\n",
       "      <td>0.0</td>\n",
       "      <td>1.0</td>\n",
       "      <td>0.0</td>\n",
       "      <td>4.0</td>\n",
       "      <td>4</td>\n",
       "      <td>1</td>\n",
       "      <td>1920</td>\n",
       "      <td>1978</td>\n",
       "      <td>12.0</td>\n",
       "      <td>2018</td>\n",
       "      <td>6</td>\n",
       "      <td>0</td>\n",
       "    </tr>\n",
       "    <tr>\n",
       "      <th>4</th>\n",
       "      <td>179000</td>\n",
       "      <td>29</td>\n",
       "      <td>0</td>\n",
       "      <td>0</td>\n",
       "      <td>0.0</td>\n",
       "      <td>1.0</td>\n",
       "      <td>0.0</td>\n",
       "      <td>0.0</td>\n",
       "      <td>4</td>\n",
       "      <td>2</td>\n",
       "      <td>1329</td>\n",
       "      <td>1976</td>\n",
       "      <td>12.0</td>\n",
       "      <td>2018</td>\n",
       "      <td>9</td>\n",
       "      <td>0</td>\n",
       "    </tr>\n",
       "  </tbody>\n",
       "</table>\n",
       "</div>"
      ],
      "text/plain": [
       "   Sold Price  DOM  Garage Capacity  HOA Fee  Irregular Shape  Quadrant  \\\n",
       "0      176000    5                2        0              0.0       1.0   \n",
       "1      225000    6                2        0              0.0       1.0   \n",
       "2      274900   14                2        0              0.0       1.0   \n",
       "3      175000   16                1        0              0.0       1.0   \n",
       "4      179000   29                0        0              0.0       1.0   \n",
       "\n",
       "   School District  Sold Terms  Total Bedrooms  Total Bathrooms  \\\n",
       "0              0.0         2.0               3                1   \n",
       "1              0.0         1.0               4                2   \n",
       "2              0.0         1.0               3                1   \n",
       "3              0.0         4.0               4                1   \n",
       "4              0.0         0.0               4                2   \n",
       "\n",
       "   Total Square Feet  Year Built   Zip  year_sold  month_sold  \\\n",
       "0               1031        1974  12.0       2018           9   \n",
       "1               2091        1995  12.0       2018           7   \n",
       "2               2016        1980  12.0       2018          11   \n",
       "3               1920        1978  12.0       2018           6   \n",
       "4               1329        1976  12.0       2018           9   \n",
       "\n",
       "   built_after_2000  \n",
       "0                 0  \n",
       "1                 0  \n",
       "2                 0  \n",
       "3                 0  \n",
       "4                 0  "
      ]
     },
     "execution_count": 18,
     "metadata": {},
     "output_type": "execute_result"
    }
   ],
   "source": [
    "df.head()"
   ]
  },
  {
   "cell_type": "code",
   "execution_count": 19,
   "metadata": {},
   "outputs": [
    {
     "data": {
      "text/plain": [
       "[array(['No', 'Yes'], dtype=object),\n",
       " array(['NE', 'NW', 'SE', 'SW'], dtype=object),\n",
       " array(['Cache', 'Logan'], dtype=object),\n",
       " array(['Cash', 'Conventional', 'FHA', 'Other', 'USDA Rural Development',\n",
       "        'VA'], dtype=object),\n",
       " array([84305, 84308, 84318, 84319, 84320, 84321, 84325, 84326, 84327,\n",
       "        84328, 84332, 84333, 84335, 84338, 84339, 84341], dtype=int64)]"
      ]
     },
     "execution_count": 19,
     "metadata": {},
     "output_type": "execute_result"
    }
   ],
   "source": [
    "enc.categories_"
   ]
  },
  {
   "cell_type": "code",
   "execution_count": 20,
   "metadata": {},
   "outputs": [
    {
     "name": "stdout",
     "output_type": "stream",
     "text": [
      "<class 'pandas.core.frame.DataFrame'>\n",
      "Int64Index: 4108 entries, 0 to 4109\n",
      "Data columns (total 16 columns):\n",
      "Sold Price           4108 non-null int64\n",
      "DOM                  4108 non-null int64\n",
      "Garage Capacity      4108 non-null int64\n",
      "HOA Fee              4108 non-null int64\n",
      "Irregular Shape      4108 non-null float64\n",
      "Quadrant             4108 non-null float64\n",
      "School District      4108 non-null float64\n",
      "Sold Terms           4108 non-null float64\n",
      "Total Bedrooms       4108 non-null int64\n",
      "Total Bathrooms      4108 non-null int64\n",
      "Total Square Feet    4108 non-null int64\n",
      "Year Built           4108 non-null int64\n",
      "Zip                  4108 non-null float64\n",
      "year_sold            4108 non-null int64\n",
      "month_sold           4108 non-null int64\n",
      "built_after_2000     4108 non-null int64\n",
      "dtypes: float64(5), int64(11)\n",
      "memory usage: 545.6 KB\n"
     ]
    }
   ],
   "source": [
    "df.info()"
   ]
  },
  {
   "cell_type": "code",
   "execution_count": 21,
   "metadata": {},
   "outputs": [],
   "source": [
    "df.drop('built_after_2000', axis=1, inplace=True) #why?"
   ]
  },
  {
   "cell_type": "code",
   "execution_count": 22,
   "metadata": {},
   "outputs": [
    {
     "data": {
      "text/plain": [
       "(4108, 15)"
      ]
     },
     "execution_count": 22,
     "metadata": {},
     "output_type": "execute_result"
    }
   ],
   "source": [
    "df.shape"
   ]
  },
  {
   "cell_type": "markdown",
   "metadata": {},
   "source": [
    "Remember, with other machine learning models, we ended up with **58 features** using the same data set because we had to transform categorical variables into dummies. But with RF, there is only **14 features** to work with. "
   ]
  },
  {
   "cell_type": "markdown",
   "metadata": {},
   "source": [
    "### Scaling features\n",
    "In random forest, we don't need to scale the features!! "
   ]
  },
  {
   "cell_type": "markdown",
   "metadata": {},
   "source": [
    "### Defining the variables and splitting the data"
   ]
  },
  {
   "cell_type": "code",
   "execution_count": 23,
   "metadata": {},
   "outputs": [],
   "source": [
    "rand_state = 1000"
   ]
  },
  {
   "cell_type": "code",
   "execution_count": 24,
   "metadata": {},
   "outputs": [],
   "source": [
    "y = df['Sold Price']\n",
    "X = df.drop('Sold Price', axis=1) # becareful inplace= False\n",
    "\n",
    "from sklearn.model_selection import train_test_split\n",
    "X_train, X_test, y_train, y_test = train_test_split(X, y, test_size=0.3, random_state=rand_state)"
   ]
  },
  {
   "cell_type": "markdown",
   "metadata": {},
   "source": [
    "---"
   ]
  },
  {
   "cell_type": "markdown",
   "metadata": {},
   "source": [
    "## Random Forest Regression with Sklearn"
   ]
  },
  {
   "cell_type": "code",
   "execution_count": 26,
   "metadata": {},
   "outputs": [],
   "source": [
    "from sklearn.ensemble import RandomForestRegressor"
   ]
  },
  {
   "cell_type": "code",
   "execution_count": 27,
   "metadata": {},
   "outputs": [
    {
     "data": {
      "text/plain": [
       "RandomForestRegressor(random_state=1000)"
      ]
     },
     "execution_count": 27,
     "metadata": {},
     "output_type": "execute_result"
    }
   ],
   "source": [
    "# Fitting RF regression to the Training set\n",
    "RF_regression = RandomForestRegressor(random_state=rand_state)\n",
    "RF_regression.fit(X_train, y_train)"
   ]
  },
  {
   "cell_type": "code",
   "execution_count": 28,
   "metadata": {},
   "outputs": [],
   "source": [
    "# Predicting the Test set results\n",
    "y_hat = RF_regression.predict(X_test)"
   ]
  },
  {
   "cell_type": "code",
   "execution_count": 29,
   "metadata": {},
   "outputs": [
    {
     "data": {
      "text/html": [
       "<div>\n",
       "<style scoped>\n",
       "    .dataframe tbody tr th:only-of-type {\n",
       "        vertical-align: middle;\n",
       "    }\n",
       "\n",
       "    .dataframe tbody tr th {\n",
       "        vertical-align: top;\n",
       "    }\n",
       "\n",
       "    .dataframe thead th {\n",
       "        text-align: right;\n",
       "    }\n",
       "</style>\n",
       "<table border=\"1\" class=\"dataframe\">\n",
       "  <thead>\n",
       "    <tr style=\"text-align: right;\">\n",
       "      <th></th>\n",
       "      <th>y_test</th>\n",
       "      <th>y_hat</th>\n",
       "    </tr>\n",
       "  </thead>\n",
       "  <tbody>\n",
       "    <tr>\n",
       "      <th>4086</th>\n",
       "      <td>234500</td>\n",
       "      <td>262465.62</td>\n",
       "    </tr>\n",
       "    <tr>\n",
       "      <th>2938</th>\n",
       "      <td>200685</td>\n",
       "      <td>208367.15</td>\n",
       "    </tr>\n",
       "    <tr>\n",
       "      <th>175</th>\n",
       "      <td>345500</td>\n",
       "      <td>383041.50</td>\n",
       "    </tr>\n",
       "    <tr>\n",
       "      <th>1940</th>\n",
       "      <td>230000</td>\n",
       "      <td>229644.23</td>\n",
       "    </tr>\n",
       "    <tr>\n",
       "      <th>1763</th>\n",
       "      <td>299000</td>\n",
       "      <td>379370.31</td>\n",
       "    </tr>\n",
       "  </tbody>\n",
       "</table>\n",
       "</div>"
      ],
      "text/plain": [
       "      y_test      y_hat\n",
       "4086  234500  262465.62\n",
       "2938  200685  208367.15\n",
       "175   345500  383041.50\n",
       "1940  230000  229644.23\n",
       "1763  299000  379370.31"
      ]
     },
     "execution_count": 29,
     "metadata": {},
     "output_type": "execute_result"
    }
   ],
   "source": [
    "predictions = pd.DataFrame({ 'y_test':y_test,'y_hat':y_hat})\n",
    "predictions.head()"
   ]
  },
  {
   "cell_type": "markdown",
   "metadata": {},
   "source": [
    "---\n",
    "## Evaluating the model performance on test data"
   ]
  },
  {
   "cell_type": "code",
   "execution_count": 30,
   "metadata": {},
   "outputs": [
    {
     "data": {
      "image/png": "[encoded data removed]",
      "text/plain": [
       "<Figure size 432x288 with 1 Axes>"
      ]
     },
     "metadata": {
      "needs_background": "light"
     },
     "output_type": "display_data"
    }
   ],
   "source": [
    "sns.scatterplot(x=y_test, y=y_hat, alpha=0.6)\n",
    "sns.lineplot(y_test, y_test)\n",
    "\n",
    "plt.xlabel('Actual price', fontsize=14)\n",
    "plt.ylabel('Prediced  price', fontsize=14)\n",
    "plt.title('Actual vs Predicted  price (test set)', fontsize=17)\n",
    "plt.show()"
   ]
  },
  {
   "cell_type": "code",
   "execution_count": 31,
   "metadata": {},
   "outputs": [
    {
     "data": {
      "text/plain": [
       "0.8379"
      ]
     },
     "execution_count": 31,
     "metadata": {},
     "output_type": "execute_result"
    }
   ],
   "source": [
    "np.round(RF_regression.score(X_test, y_test),4)"
   ]
  },
  {
   "cell_type": "markdown",
   "metadata": {},
   "source": [
    "Reminder: The $R^2$ using an SVM model was around 73%. Vanilla base RF is outperforming SVM. "
   ]
  },
  {
   "cell_type": "code",
   "execution_count": 32,
   "metadata": {},
   "outputs": [
    {
     "data": {
      "text/plain": [
       "46398.65"
      ]
     },
     "execution_count": 32,
     "metadata": {},
     "output_type": "execute_result"
    }
   ],
   "source": [
    "MSE_test = round(np.mean(np.square(y_test - y_hat)),2)\n",
    "RMSE_test = round(np.sqrt(MSE_test),2)\n",
    "RMSE_test"
   ]
  },
  {
   "cell_type": "markdown",
   "metadata": {},
   "source": [
    "---"
   ]
  },
  {
   "cell_type": "markdown",
   "metadata": {},
   "source": [
    "## Tuning hyperparameters: \n",
    "### Gridsearch\n"
   ]
  },
  {
   "cell_type": "code",
   "execution_count": 33,
   "metadata": {},
   "outputs": [],
   "source": [
    "my_param_grid = {'n_estimators': [10,100,500], 'max_features':['sqrt','log2'], 'max_depth':[5,10,20]}"
   ]
  },
  {
   "cell_type": "code",
   "execution_count": 34,
   "metadata": {},
   "outputs": [],
   "source": [
    "from sklearn.model_selection import GridSearchCV"
   ]
  },
  {
   "cell_type": "code",
   "execution_count": 35,
   "metadata": {},
   "outputs": [],
   "source": [
    "grid = GridSearchCV(estimator=RandomForestRegressor(random_state=rand_state),param_grid= my_param_grid, refit = True, verbose=2, cv=5 )\n",
    "# verbose just means the text output describing the process. (the greater the number the more detail you will get)."
   ]
  },
  {
   "cell_type": "code",
   "execution_count": 36,
   "metadata": {},
   "outputs": [
    {
     "name": "stdout",
     "output_type": "stream",
     "text": [
      "Fitting 5 folds for each of 18 candidates, totalling 90 fits\n",
      "[CV] END ....max_depth=5, max_features=sqrt, n_estimators=10; total time=   0.0s\n",
      "[CV] END ....max_depth=5, max_features=sqrt, n_estimators=10; total time=   0.0s\n",
      "[CV] END ....max_depth=5, max_features=sqrt, n_estimators=10; total time=   0.0s\n",
      "[CV] END ....max_depth=5, max_features=sqrt, n_estimators=10; total time=   0.0s\n",
      "[CV] END ....max_depth=5, max_features=sqrt, n_estimators=10; total time=   0.0s\n",
      "[CV] END ...max_depth=5, max_features=sqrt, n_estimators=100; total time=   0.0s\n",
      "[CV] END ...max_depth=5, max_features=sqrt, n_estimators=100; total time=   0.0s\n",
      "[CV] END ...max_depth=5, max_features=sqrt, n_estimators=100; total time=   0.0s\n",
      "[CV] END ...max_depth=5, max_features=sqrt, n_estimators=100; total time=   0.0s\n",
      "[CV] END ...max_depth=5, max_features=sqrt, n_estimators=100; total time=   0.0s\n",
      "[CV] END ...max_depth=5, max_features=sqrt, n_estimators=500; total time=   0.5s\n",
      "[CV] END ...max_depth=5, max_features=sqrt, n_estimators=500; total time=   0.5s\n",
      "[CV] END ...max_depth=5, max_features=sqrt, n_estimators=500; total time=   0.5s\n",
      "[CV] END ...max_depth=5, max_features=sqrt, n_estimators=500; total time=   0.5s\n",
      "[CV] END ...max_depth=5, max_features=sqrt, n_estimators=500; total time=   0.5s\n",
      "[CV] END ....max_depth=5, max_features=log2, n_estimators=10; total time=   0.0s\n",
      "[CV] END ....max_depth=5, max_features=log2, n_estimators=10; total time=   0.0s\n",
      "[CV] END ....max_depth=5, max_features=log2, n_estimators=10; total time=   0.0s\n",
      "[CV] END ....max_depth=5, max_features=log2, n_estimators=10; total time=   0.0s\n",
      "[CV] END ....max_depth=5, max_features=log2, n_estimators=10; total time=   0.0s\n",
      "[CV] END ...max_depth=5, max_features=log2, n_estimators=100; total time=   0.0s\n",
      "[CV] END ...max_depth=5, max_features=log2, n_estimators=100; total time=   0.0s\n",
      "[CV] END ...max_depth=5, max_features=log2, n_estimators=100; total time=   0.0s\n",
      "[CV] END ...max_depth=5, max_features=log2, n_estimators=100; total time=   0.0s\n",
      "[CV] END ...max_depth=5, max_features=log2, n_estimators=100; total time=   0.0s\n",
      "[CV] END ...max_depth=5, max_features=log2, n_estimators=500; total time=   0.5s\n",
      "[CV] END ...max_depth=5, max_features=log2, n_estimators=500; total time=   0.5s\n",
      "[CV] END ...max_depth=5, max_features=log2, n_estimators=500; total time=   0.5s\n",
      "[CV] END ...max_depth=5, max_features=log2, n_estimators=500; total time=   0.5s\n",
      "[CV] END ...max_depth=5, max_features=log2, n_estimators=500; total time=   0.5s\n",
      "[CV] END ...max_depth=10, max_features=sqrt, n_estimators=10; total time=   0.0s\n",
      "[CV] END ...max_depth=10, max_features=sqrt, n_estimators=10; total time=   0.0s\n",
      "[CV] END ...max_depth=10, max_features=sqrt, n_estimators=10; total time=   0.0s\n",
      "[CV] END ...max_depth=10, max_features=sqrt, n_estimators=10; total time=   0.0s\n",
      "[CV] END ...max_depth=10, max_features=sqrt, n_estimators=10; total time=   0.0s\n",
      "[CV] END ..max_depth=10, max_features=sqrt, n_estimators=100; total time=   0.1s\n",
      "[CV] END ..max_depth=10, max_features=sqrt, n_estimators=100; total time=   0.1s\n",
      "[CV] END ..max_depth=10, max_features=sqrt, n_estimators=100; total time=   0.1s\n",
      "[CV] END ..max_depth=10, max_features=sqrt, n_estimators=100; total time=   0.1s\n",
      "[CV] END ..max_depth=10, max_features=sqrt, n_estimators=100; total time=   0.1s\n",
      "[CV] END ..max_depth=10, max_features=sqrt, n_estimators=500; total time=   0.9s\n",
      "[CV] END ..max_depth=10, max_features=sqrt, n_estimators=500; total time=   0.9s\n",
      "[CV] END ..max_depth=10, max_features=sqrt, n_estimators=500; total time=   0.8s\n",
      "[CV] END ..max_depth=10, max_features=sqrt, n_estimators=500; total time=   0.9s\n",
      "[CV] END ..max_depth=10, max_features=sqrt, n_estimators=500; total time=   0.8s\n",
      "[CV] END ...max_depth=10, max_features=log2, n_estimators=10; total time=   0.0s\n",
      "[CV] END ...max_depth=10, max_features=log2, n_estimators=10; total time=   0.0s\n",
      "[CV] END ...max_depth=10, max_features=log2, n_estimators=10; total time=   0.0s\n",
      "[CV] END ...max_depth=10, max_features=log2, n_estimators=10; total time=   0.0s\n",
      "[CV] END ...max_depth=10, max_features=log2, n_estimators=10; total time=   0.0s\n",
      "[CV] END ..max_depth=10, max_features=log2, n_estimators=100; total time=   0.1s\n",
      "[CV] END ..max_depth=10, max_features=log2, n_estimators=100; total time=   0.1s\n",
      "[CV] END ..max_depth=10, max_features=log2, n_estimators=100; total time=   0.1s\n",
      "[CV] END ..max_depth=10, max_features=log2, n_estimators=100; total time=   0.1s\n",
      "[CV] END ..max_depth=10, max_features=log2, n_estimators=100; total time=   0.1s\n",
      "[CV] END ..max_depth=10, max_features=log2, n_estimators=500; total time=   0.8s\n",
      "[CV] END ..max_depth=10, max_features=log2, n_estimators=500; total time=   0.8s\n",
      "[CV] END ..max_depth=10, max_features=log2, n_estimators=500; total time=   0.8s\n",
      "[CV] END ..max_depth=10, max_features=log2, n_estimators=500; total time=   0.9s\n",
      "[CV] END ..max_depth=10, max_features=log2, n_estimators=500; total time=   0.9s\n",
      "[CV] END ...max_depth=20, max_features=sqrt, n_estimators=10; total time=   0.0s\n",
      "[CV] END ...max_depth=20, max_features=sqrt, n_estimators=10; total time=   0.0s\n",
      "[CV] END ...max_depth=20, max_features=sqrt, n_estimators=10; total time=   0.0s\n",
      "[CV] END ...max_depth=20, max_features=sqrt, n_estimators=10; total time=   0.0s\n",
      "[CV] END ...max_depth=20, max_features=sqrt, n_estimators=10; total time=   0.0s\n",
      "[CV] END ..max_depth=20, max_features=sqrt, n_estimators=100; total time=   0.2s\n",
      "[CV] END ..max_depth=20, max_features=sqrt, n_estimators=100; total time=   0.2s\n",
      "[CV] END ..max_depth=20, max_features=sqrt, n_estimators=100; total time=   0.2s\n",
      "[CV] END ..max_depth=20, max_features=sqrt, n_estimators=100; total time=   0.2s\n",
      "[CV] END ..max_depth=20, max_features=sqrt, n_estimators=100; total time=   0.2s\n",
      "[CV] END ..max_depth=20, max_features=sqrt, n_estimators=500; total time=   1.4s\n",
      "[CV] END ..max_depth=20, max_features=sqrt, n_estimators=500; total time=   1.4s\n",
      "[CV] END ..max_depth=20, max_features=sqrt, n_estimators=500; total time=   1.4s\n",
      "[CV] END ..max_depth=20, max_features=sqrt, n_estimators=500; total time=   1.4s\n",
      "[CV] END ..max_depth=20, max_features=sqrt, n_estimators=500; total time=   1.4s\n",
      "[CV] END ...max_depth=20, max_features=log2, n_estimators=10; total time=   0.0s\n",
      "[CV] END ...max_depth=20, max_features=log2, n_estimators=10; total time=   0.0s\n",
      "[CV] END ...max_depth=20, max_features=log2, n_estimators=10; total time=   0.0s\n",
      "[CV] END ...max_depth=20, max_features=log2, n_estimators=10; total time=   0.0s\n",
      "[CV] END ...max_depth=20, max_features=log2, n_estimators=10; total time=   0.0s\n",
      "[CV] END ..max_depth=20, max_features=log2, n_estimators=100; total time=   0.2s\n",
      "[CV] END ..max_depth=20, max_features=log2, n_estimators=100; total time=   0.2s\n",
      "[CV] END ..max_depth=20, max_features=log2, n_estimators=100; total time=   0.2s\n",
      "[CV] END ..max_depth=20, max_features=log2, n_estimators=100; total time=   0.2s\n",
      "[CV] END ..max_depth=20, max_features=log2, n_estimators=100; total time=   0.2s\n",
      "[CV] END ..max_depth=20, max_features=log2, n_estimators=500; total time=   1.3s\n",
      "[CV] END ..max_depth=20, max_features=log2, n_estimators=500; total time=   1.3s\n",
      "[CV] END ..max_depth=20, max_features=log2, n_estimators=500; total time=   1.3s\n",
      "[CV] END ..max_depth=20, max_features=log2, n_estimators=500; total time=   1.4s\n",
      "[CV] END ..max_depth=20, max_features=log2, n_estimators=500; total time=   1.4s\n"
     ]
    },
    {
     "data": {
      "text/plain": [
       "GridSearchCV(cv=5, estimator=RandomForestRegressor(random_state=1000),\n",
       "             param_grid={'max_depth': [5, 10, 20],\n",
       "                         'max_features': ['sqrt', 'log2'],\n",
       "                         'n_estimators': [10, 100, 500]},\n",
       "             verbose=2)"
      ]
     },
     "execution_count": 36,
     "metadata": {},
     "output_type": "execute_result"
    }
   ],
   "source": [
    "# May take a while!\n",
    "grid.fit(X_train,y_train)"
   ]
  },
  {
   "cell_type": "code",
   "execution_count": 37,
   "metadata": {},
   "outputs": [
    {
     "data": {
      "text/plain": [
       "{'max_depth': 20, 'max_features': 'sqrt', 'n_estimators': 500}"
      ]
     },
     "execution_count": 37,
     "metadata": {},
     "output_type": "execute_result"
    }
   ],
   "source": [
    "grid.best_params_"
   ]
  },
  {
   "cell_type": "code",
   "execution_count": 38,
   "metadata": {},
   "outputs": [
    {
     "data": {
      "text/plain": [
       "RandomForestRegressor(max_depth=20, max_features='sqrt', n_estimators=500,\n",
       "                      random_state=1000)"
      ]
     },
     "execution_count": 38,
     "metadata": {},
     "output_type": "execute_result"
    }
   ],
   "source": [
    "grid.best_estimator_"
   ]
  },
  {
   "cell_type": "code",
   "execution_count": 39,
   "metadata": {},
   "outputs": [],
   "source": [
    "y_hat_optimized = grid.predict(X_test)"
   ]
  },
  {
   "cell_type": "code",
   "execution_count": 40,
   "metadata": {},
   "outputs": [
    {
     "data": {
      "text/html": [
       "<div>\n",
       "<style scoped>\n",
       "    .dataframe tbody tr th:only-of-type {\n",
       "        vertical-align: middle;\n",
       "    }\n",
       "\n",
       "    .dataframe tbody tr th {\n",
       "        vertical-align: top;\n",
       "    }\n",
       "\n",
       "    .dataframe thead th {\n",
       "        text-align: right;\n",
       "    }\n",
       "</style>\n",
       "<table border=\"1\" class=\"dataframe\">\n",
       "  <thead>\n",
       "    <tr style=\"text-align: right;\">\n",
       "      <th></th>\n",
       "      <th>y_test</th>\n",
       "      <th>y_hat</th>\n",
       "      <th>y_hat_optimized</th>\n",
       "    </tr>\n",
       "  </thead>\n",
       "  <tbody>\n",
       "    <tr>\n",
       "      <th>4086</th>\n",
       "      <td>234500</td>\n",
       "      <td>262465.62</td>\n",
       "      <td>263663.561524</td>\n",
       "    </tr>\n",
       "    <tr>\n",
       "      <th>2938</th>\n",
       "      <td>200685</td>\n",
       "      <td>208367.15</td>\n",
       "      <td>217316.819728</td>\n",
       "    </tr>\n",
       "    <tr>\n",
       "      <th>175</th>\n",
       "      <td>345500</td>\n",
       "      <td>383041.50</td>\n",
       "      <td>389525.313035</td>\n",
       "    </tr>\n",
       "    <tr>\n",
       "      <th>1940</th>\n",
       "      <td>230000</td>\n",
       "      <td>229644.23</td>\n",
       "      <td>217183.862310</td>\n",
       "    </tr>\n",
       "    <tr>\n",
       "      <th>1763</th>\n",
       "      <td>299000</td>\n",
       "      <td>379370.31</td>\n",
       "      <td>368291.758000</td>\n",
       "    </tr>\n",
       "  </tbody>\n",
       "</table>\n",
       "</div>"
      ],
      "text/plain": [
       "      y_test      y_hat  y_hat_optimized\n",
       "4086  234500  262465.62    263663.561524\n",
       "2938  200685  208367.15    217316.819728\n",
       "175   345500  383041.50    389525.313035\n",
       "1940  230000  229644.23    217183.862310\n",
       "1763  299000  379370.31    368291.758000"
      ]
     },
     "execution_count": 40,
     "metadata": {},
     "output_type": "execute_result"
    }
   ],
   "source": [
    "predictions['y_hat_optimized'] = y_hat_optimized\n",
    "predictions.head()"
   ]
  },
  {
   "cell_type": "code",
   "execution_count": 41,
   "metadata": {},
   "outputs": [
    {
     "data": {
      "image/png": "[encoded data removed]",
      "text/plain": [
       "<Figure size 432x288 with 1 Axes>"
      ]
     },
     "metadata": {
      "needs_background": "light"
     },
     "output_type": "display_data"
    }
   ],
   "source": [
    "sns.scatterplot(x=y_test, y=y_hat_optimized, alpha=0.6)\n",
    "sns.lineplot(y_test, y_test)\n",
    "\n",
    "plt.xlabel('Actual price', fontsize=14)\n",
    "plt.ylabel('Prediced  price', fontsize=14)\n",
    "plt.title('Actual vs optimized predicted price (test set)', fontsize=17)\n",
    "plt.show()"
   ]
  },
  {
   "cell_type": "code",
   "execution_count": 42,
   "metadata": {},
   "outputs": [
    {
     "data": {
      "text/plain": [
       "0.8486"
      ]
     },
     "execution_count": 42,
     "metadata": {},
     "output_type": "execute_result"
    }
   ],
   "source": [
    "np.round(grid.score(X_test, y_test),4)"
   ]
  },
  {
   "cell_type": "code",
   "execution_count": 43,
   "metadata": {},
   "outputs": [
    {
     "data": {
      "text/plain": [
       "44850.32"
      ]
     },
     "execution_count": 43,
     "metadata": {},
     "output_type": "execute_result"
    }
   ],
   "source": [
    "MSE_test_opt = round(np.mean(np.square(y_test - y_hat_optimized)),2)\n",
    "RMSE_test_opt = round(np.sqrt(MSE_test_opt),2)\n",
    "RMSE_test_opt"
   ]
  },
  {
   "cell_type": "markdown",
   "metadata": {},
   "source": [
    "- Compared to numbers before using gridsearch (R2= 0.8379 and RMSE= 46398), this is a slight improvement!\n",
    "- Recall: the best we could do with SVM was R2=80. So RF outperforms SVM slightly!"
   ]
  },
  {
   "cell_type": "markdown",
   "metadata": {},
   "source": [
    "---\n",
    "## Using Cross validation and OOB observations to estimate the $R^2$ in the test set. "
   ]
  },
  {
   "cell_type": "markdown",
   "metadata": {},
   "source": [
    "#### Cross validation\n",
    "We will use Cross validation to estimate performance metrics in the test set. "
   ]
  },
  {
   "cell_type": "code",
   "execution_count": 45,
   "metadata": {},
   "outputs": [],
   "source": [
    "from sklearn.model_selection import cross_val_score"
   ]
  },
  {
   "cell_type": "code",
   "execution_count": 46,
   "metadata": {},
   "outputs": [],
   "source": [
    "R2 = cross_val_score(estimator = RandomForestRegressor(max_depth=20, max_features='sqrt', n_estimators=500), X = X_train, y = y_train, cv = 5 , scoring=\"r2\" )"
   ]
  },
  {
   "cell_type": "code",
   "execution_count": 47,
   "metadata": {},
   "outputs": [
    {
     "data": {
      "text/plain": [
       "0.783"
      ]
     },
     "execution_count": 47,
     "metadata": {},
     "output_type": "execute_result"
    }
   ],
   "source": [
    "R2_CV = round(np.mean(R2),4)\n",
    "R2_CV"
   ]
  },
  {
   "cell_type": "markdown",
   "metadata": {},
   "source": [
    "---"
   ]
  },
  {
   "cell_type": "markdown",
   "metadata": {},
   "source": [
    "### Out-of-Bag errors!"
   ]
  },
  {
   "cell_type": "markdown",
   "metadata": {},
   "source": [
    "We can show that on average, each bagged tree makes use of around 2/3 of the observations and 1/3 of them are not used to fit the model. These left out observations are called out-of-bag (OOB) observations. It turns out there is a very straightforward way to estimate the test errors using OOB observations. "
   ]
  },
  {
   "cell_type": "code",
   "execution_count": 49,
   "metadata": {},
   "outputs": [
    {
     "data": {
      "text/plain": [
       "array([78, 29, 54, 19, 61, 14, 80, 64, 92, 44, 51, 69,  8, 58, 78, 50, 65,\n",
       "        7, 79, 16, 32, 75, 17, 33, 75, 58, 29, 23, 76, 64, 62, 22, 63, 32,\n",
       "        9, 19, 10, 98, 84, 29, 80, 94, 13, 33, 28, 71, 52, 15, 53,  3, 52,\n",
       "       37, 86, 62, 74, 79, 46, 67, 17, 87,  4, 14, 87, 65, 70, 57, 11, 57,\n",
       "       32, 42, 50, 59, 53,  8, 87, 71, 98, 50,  9, 22, 99, 95, 29, 67, 74,\n",
       "       54, 56, 34, 82, 35, 85, 85, 68, 25, 15, 72, 17, 92, 50, 59])"
      ]
     },
     "execution_count": 49,
     "metadata": {},
     "output_type": "execute_result"
    }
   ],
   "source": [
    "np.random.choice (100,size=100)"
   ]
  },
  {
   "cell_type": "code",
   "execution_count": 76,
   "metadata": {},
   "outputs": [
    {
     "data": {
      "text/plain": [
       "63"
      ]
     },
     "execution_count": 76,
     "metadata": {},
     "output_type": "execute_result"
    }
   ],
   "source": [
    "np.unique(np.random.choice (100,size=100)).size"
   ]
  },
  {
   "cell_type": "code",
   "execution_count": 77,
   "metadata": {},
   "outputs": [
    {
     "data": {
      "text/plain": [
       "RandomForestRegressor(max_depth=20, max_features='sqrt', n_estimators=500,\n",
       "                      oob_score=True)"
      ]
     },
     "execution_count": 77,
     "metadata": {},
     "output_type": "execute_result"
    }
   ],
   "source": [
    "RF_oob = RandomForestRegressor(max_depth=20, max_features='sqrt', n_estimators=500, oob_score=True)\n",
    "RF_oob.fit(X_train, y_train)"
   ]
  },
  {
   "cell_type": "code",
   "execution_count": 78,
   "metadata": {},
   "outputs": [
    {
     "data": {
      "text/plain": [
       "0.7820619715831524"
      ]
     },
     "execution_count": 78,
     "metadata": {},
     "output_type": "execute_result"
    }
   ],
   "source": [
    "RF_oob.oob_score_"
   ]
  },
  {
   "cell_type": "markdown",
   "metadata": {},
   "source": [
    "---"
   ]
  },
  {
   "cell_type": "markdown",
   "metadata": {},
   "source": [
    "### Feature Importance"
   ]
  },
  {
   "cell_type": "code",
   "execution_count": 79,
   "metadata": {},
   "outputs": [
    {
     "data": {
      "text/plain": [
       "['DOM',\n",
       " 'Garage Capacity',\n",
       " 'HOA Fee',\n",
       " 'Irregular Shape',\n",
       " 'Quadrant',\n",
       " 'School District',\n",
       " 'Sold Terms',\n",
       " 'Total Bedrooms',\n",
       " 'Total Bathrooms',\n",
       " 'Total Square Feet',\n",
       " 'Year Built',\n",
       " 'Zip',\n",
       " 'year_sold',\n",
       " 'month_sold']"
      ]
     },
     "execution_count": 79,
     "metadata": {},
     "output_type": "execute_result"
    }
   ],
   "source": [
    "features = list(X_train.columns)\n",
    "features"
   ]
  },
  {
   "cell_type": "code",
   "execution_count": 80,
   "metadata": {},
   "outputs": [
    {
     "data": {
      "text/plain": [
       "RandomForestRegressor(max_depth=20, max_features='sqrt', n_estimators=500,\n",
       "                      random_state=1000)"
      ]
     },
     "execution_count": 80,
     "metadata": {},
     "output_type": "execute_result"
    }
   ],
   "source": [
    "RF_Regressor = RandomForestRegressor(n_estimators = 500, max_features='sqrt', max_depth=20, random_state= rand_state)\n",
    "RF_Regressor.fit(X_train, y_train)"
   ]
  },
  {
   "cell_type": "code",
   "execution_count": 81,
   "metadata": {},
   "outputs": [
    {
     "data": {
      "text/plain": [
       "array([0.04270873, 0.15762993, 0.04294991, 0.00981058, 0.02096636,\n",
       "       0.01890072, 0.02908753, 0.0855662 , 0.10733285, 0.34693044,\n",
       "       0.05790082, 0.02612978, 0.02678065, 0.02730549])"
      ]
     },
     "execution_count": 81,
     "metadata": {},
     "output_type": "execute_result"
    }
   ],
   "source": [
    "importance = RF_Regressor.feature_importances_\n",
    "importance"
   ]
  },
  {
   "cell_type": "code",
   "execution_count": 82,
   "metadata": {},
   "outputs": [
    {
     "data": {
      "text/html": [
       "<div>\n",
       "<style scoped>\n",
       "    .dataframe tbody tr th:only-of-type {\n",
       "        vertical-align: middle;\n",
       "    }\n",
       "\n",
       "    .dataframe tbody tr th {\n",
       "        vertical-align: top;\n",
       "    }\n",
       "\n",
       "    .dataframe thead th {\n",
       "        text-align: right;\n",
       "    }\n",
       "</style>\n",
       "<table border=\"1\" class=\"dataframe\">\n",
       "  <thead>\n",
       "    <tr style=\"text-align: right;\">\n",
       "      <th></th>\n",
       "      <th>Features</th>\n",
       "      <th>Feature_importance</th>\n",
       "    </tr>\n",
       "  </thead>\n",
       "  <tbody>\n",
       "    <tr>\n",
       "      <th>3</th>\n",
       "      <td>Irregular Shape</td>\n",
       "      <td>0.009811</td>\n",
       "    </tr>\n",
       "    <tr>\n",
       "      <th>5</th>\n",
       "      <td>School District</td>\n",
       "      <td>0.018901</td>\n",
       "    </tr>\n",
       "    <tr>\n",
       "      <th>4</th>\n",
       "      <td>Quadrant</td>\n",
       "      <td>0.020966</td>\n",
       "    </tr>\n",
       "    <tr>\n",
       "      <th>11</th>\n",
       "      <td>Zip</td>\n",
       "      <td>0.026130</td>\n",
       "    </tr>\n",
       "    <tr>\n",
       "      <th>12</th>\n",
       "      <td>year_sold</td>\n",
       "      <td>0.026781</td>\n",
       "    </tr>\n",
       "    <tr>\n",
       "      <th>13</th>\n",
       "      <td>month_sold</td>\n",
       "      <td>0.027305</td>\n",
       "    </tr>\n",
       "    <tr>\n",
       "      <th>6</th>\n",
       "      <td>Sold Terms</td>\n",
       "      <td>0.029088</td>\n",
       "    </tr>\n",
       "    <tr>\n",
       "      <th>0</th>\n",
       "      <td>DOM</td>\n",
       "      <td>0.042709</td>\n",
       "    </tr>\n",
       "    <tr>\n",
       "      <th>2</th>\n",
       "      <td>HOA Fee</td>\n",
       "      <td>0.042950</td>\n",
       "    </tr>\n",
       "    <tr>\n",
       "      <th>10</th>\n",
       "      <td>Year Built</td>\n",
       "      <td>0.057901</td>\n",
       "    </tr>\n",
       "    <tr>\n",
       "      <th>7</th>\n",
       "      <td>Total Bedrooms</td>\n",
       "      <td>0.085566</td>\n",
       "    </tr>\n",
       "    <tr>\n",
       "      <th>8</th>\n",
       "      <td>Total Bathrooms</td>\n",
       "      <td>0.107333</td>\n",
       "    </tr>\n",
       "    <tr>\n",
       "      <th>1</th>\n",
       "      <td>Garage Capacity</td>\n",
       "      <td>0.157630</td>\n",
       "    </tr>\n",
       "    <tr>\n",
       "      <th>9</th>\n",
       "      <td>Total Square Feet</td>\n",
       "      <td>0.346930</td>\n",
       "    </tr>\n",
       "  </tbody>\n",
       "</table>\n",
       "</div>"
      ],
      "text/plain": [
       "             Features  Feature_importance\n",
       "3     Irregular Shape            0.009811\n",
       "5     School District            0.018901\n",
       "4            Quadrant            0.020966\n",
       "11                Zip            0.026130\n",
       "12          year_sold            0.026781\n",
       "13         month_sold            0.027305\n",
       "6          Sold Terms            0.029088\n",
       "0                 DOM            0.042709\n",
       "2             HOA Fee            0.042950\n",
       "10         Year Built            0.057901\n",
       "7      Total Bedrooms            0.085566\n",
       "8     Total Bathrooms            0.107333\n",
       "1     Garage Capacity            0.157630\n",
       "9   Total Square Feet            0.346930"
      ]
     },
     "execution_count": 82,
     "metadata": {},
     "output_type": "execute_result"
    }
   ],
   "source": [
    "FIM = pd.DataFrame({'Features': features, 'Feature_importance':importance})\n",
    "FIM = FIM.sort_values(by=['Feature_importance'])\n",
    "FIM"
   ]
  },
  {
   "cell_type": "code",
   "execution_count": 83,
   "metadata": {},
   "outputs": [
    {
     "data": {
      "image/png": "[encoded data removed]",
      "text/plain": [
       "<Figure size 720x432 with 1 Axes>"
      ]
     },
     "metadata": {
      "needs_background": "light"
     },
     "output_type": "display_data"
    }
   ],
   "source": [
    "plt.figure(figsize=(10,6))\n",
    "plt.title('Feature Importance')\n",
    "sns.barplot(y='Features', x='Feature_importance', data=FIM)\n",
    "plt.show()"
   ]
  },
  {
   "cell_type": "markdown",
   "metadata": {},
   "source": [
    "---\n",
    "---"
   ]
  },
  {
   "cell_type": "markdown",
   "metadata": {},
   "source": [
    "## Does more important feature mean more significant?"
   ]
  },
  {
   "cell_type": "code",
   "execution_count": 84,
   "metadata": {},
   "outputs": [],
   "source": [
    "import statsmodels.api as sm"
   ]
  },
  {
   "cell_type": "code",
   "execution_count": 86,
   "metadata": {},
   "outputs": [],
   "source": [
    "# With statsmodels, we need to mannually add a constant to our dataset!\n",
    "X_test_wc = sm.add_constant(X_test)\n",
    "X_train_wc = sm.add_constant(X_train)"
   ]
  },
  {
   "cell_type": "code",
   "execution_count": 87,
   "metadata": {},
   "outputs": [],
   "source": [
    "# Fit the model\n",
    "model = sm.OLS(y_train,X_train_wc)\n",
    "statsmodels_reg= model.fit()"
   ]
  },
  {
   "cell_type": "code",
   "execution_count": 88,
   "metadata": {},
   "outputs": [
    {
     "data": {
      "text/html": [
       "<table class=\"simpletable\">\n",
       "<caption>OLS Regression Results</caption>\n",
       "<tr>\n",
       "  <th>Dep. Variable:</th>       <td>Sold Price</td>    <th>  R-squared:         </th> <td>   0.755</td> \n",
       "</tr>\n",
       "<tr>\n",
       "  <th>Model:</th>                   <td>OLS</td>       <th>  Adj. R-squared:    </th> <td>   0.754</td> \n",
       "</tr>\n",
       "<tr>\n",
       "  <th>Method:</th>             <td>Least Squares</td>  <th>  F-statistic:       </th> <td>   630.4</td> \n",
       "</tr>\n",
       "<tr>\n",
       "  <th>Date:</th>             <td>Wed, 07 Apr 2021</td> <th>  Prob (F-statistic):</th>  <td>  0.00</td>  \n",
       "</tr>\n",
       "<tr>\n",
       "  <th>Time:</th>                 <td>15:44:35</td>     <th>  Log-Likelihood:    </th> <td> -35655.</td> \n",
       "</tr>\n",
       "<tr>\n",
       "  <th>No. Observations:</th>      <td>  2875</td>      <th>  AIC:               </th> <td>7.134e+04</td>\n",
       "</tr>\n",
       "<tr>\n",
       "  <th>Df Residuals:</th>          <td>  2860</td>      <th>  BIC:               </th> <td>7.143e+04</td>\n",
       "</tr>\n",
       "<tr>\n",
       "  <th>Df Model:</th>              <td>    14</td>      <th>                     </th>     <td> </td>    \n",
       "</tr>\n",
       "<tr>\n",
       "  <th>Covariance Type:</th>      <td>nonrobust</td>    <th>                     </th>     <td> </td>    \n",
       "</tr>\n",
       "</table>\n",
       "<table class=\"simpletable\">\n",
       "<tr>\n",
       "          <td></td>             <th>coef</th>     <th>std err</th>      <th>t</th>      <th>P>|t|</th>  <th>[0.025</th>    <th>0.975]</th>  \n",
       "</tr>\n",
       "<tr>\n",
       "  <th>const</th>             <td>-4.985e+07</td> <td> 2.75e+06</td> <td>  -18.151</td> <td> 0.000</td> <td>-5.52e+07</td> <td>-4.45e+07</td>\n",
       "</tr>\n",
       "<tr>\n",
       "  <th>DOM</th>               <td>  -55.1928</td> <td>   22.736</td> <td>   -2.428</td> <td> 0.015</td> <td>  -99.773</td> <td>  -10.612</td>\n",
       "</tr>\n",
       "<tr>\n",
       "  <th>Garage Capacity</th>   <td> 1.942e+04</td> <td> 1286.898</td> <td>   15.088</td> <td> 0.000</td> <td> 1.69e+04</td> <td> 2.19e+04</td>\n",
       "</tr>\n",
       "<tr>\n",
       "  <th>HOA Fee</th>           <td>    1.0187</td> <td>   17.429</td> <td>    0.058</td> <td> 0.953</td> <td>  -33.156</td> <td>   35.194</td>\n",
       "</tr>\n",
       "<tr>\n",
       "  <th>Irregular Shape</th>   <td> 1.348e+04</td> <td> 3881.799</td> <td>    3.472</td> <td> 0.001</td> <td> 5866.477</td> <td> 2.11e+04</td>\n",
       "</tr>\n",
       "<tr>\n",
       "  <th>Quadrant</th>          <td> 5508.5054</td> <td> 1044.865</td> <td>    5.272</td> <td> 0.000</td> <td> 3459.741</td> <td> 7557.270</td>\n",
       "</tr>\n",
       "<tr>\n",
       "  <th>School District</th>   <td>-7499.6621</td> <td> 2558.191</td> <td>   -2.932</td> <td> 0.003</td> <td>-1.25e+04</td> <td>-2483.577</td>\n",
       "</tr>\n",
       "<tr>\n",
       "  <th>Sold Terms</th>        <td> -660.7414</td> <td>  977.467</td> <td>   -0.676</td> <td> 0.499</td> <td>-2577.353</td> <td> 1255.870</td>\n",
       "</tr>\n",
       "<tr>\n",
       "  <th>Total Bedrooms</th>    <td> 1000.4834</td> <td> 1345.759</td> <td>    0.743</td> <td> 0.457</td> <td>-1638.272</td> <td> 3639.239</td>\n",
       "</tr>\n",
       "<tr>\n",
       "  <th>Total Bathrooms</th>   <td> 2022.8305</td> <td> 1987.773</td> <td>    1.018</td> <td> 0.309</td> <td>-1874.783</td> <td> 5920.444</td>\n",
       "</tr>\n",
       "<tr>\n",
       "  <th>Total Square Feet</th> <td>   80.6931</td> <td>    1.752</td> <td>   46.065</td> <td> 0.000</td> <td>   77.258</td> <td>   84.128</td>\n",
       "</tr>\n",
       "<tr>\n",
       "  <th>Year Built</th>        <td>  113.5147</td> <td>   45.989</td> <td>    2.468</td> <td> 0.014</td> <td>   23.340</td> <td>  203.689</td>\n",
       "</tr>\n",
       "<tr>\n",
       "  <th>Zip</th>               <td>  459.4171</td> <td>  268.915</td> <td>    1.708</td> <td> 0.088</td> <td>  -67.869</td> <td>  986.703</td>\n",
       "</tr>\n",
       "<tr>\n",
       "  <th>year_sold</th>         <td> 2.459e+04</td> <td> 1361.057</td> <td>   18.065</td> <td> 0.000</td> <td> 2.19e+04</td> <td> 2.73e+04</td>\n",
       "</tr>\n",
       "<tr>\n",
       "  <th>month_sold</th>        <td> 2835.0534</td> <td>  365.969</td> <td>    7.747</td> <td> 0.000</td> <td> 2117.464</td> <td> 3552.643</td>\n",
       "</tr>\n",
       "</table>\n",
       "<table class=\"simpletable\">\n",
       "<tr>\n",
       "  <th>Omnibus:</th>       <td>3540.895</td> <th>  Durbin-Watson:     </th>  <td>   1.964</td>  \n",
       "</tr>\n",
       "<tr>\n",
       "  <th>Prob(Omnibus):</th>  <td> 0.000</td>  <th>  Jarque-Bera (JB):  </th> <td>1530235.354</td>\n",
       "</tr>\n",
       "<tr>\n",
       "  <th>Skew:</th>           <td> 6.092</td>  <th>  Prob(JB):          </th>  <td>    0.00</td>  \n",
       "</tr>\n",
       "<tr>\n",
       "  <th>Kurtosis:</th>       <td>115.364</td> <th>  Cond. No.          </th>  <td>9.39e+06</td>  \n",
       "</tr>\n",
       "</table><br/><br/>Warnings:<br/>[1] Standard Errors assume that the covariance matrix of the errors is correctly specified.<br/>[2] The condition number is large, 9.39e+06. This might indicate that there are<br/>strong multicollinearity or other numerical problems."
      ],
      "text/plain": [
       "<class 'statsmodels.iolib.summary.Summary'>\n",
       "\"\"\"\n",
       "                            OLS Regression Results                            \n",
       "==============================================================================\n",
       "Dep. Variable:             Sold Price   R-squared:                       0.755\n",
       "Model:                            OLS   Adj. R-squared:                  0.754\n",
       "Method:                 Least Squares   F-statistic:                     630.4\n",
       "Date:                Wed, 07 Apr 2021   Prob (F-statistic):               0.00\n",
       "Time:                        15:44:35   Log-Likelihood:                -35655.\n",
       "No. Observations:                2875   AIC:                         7.134e+04\n",
       "Df Residuals:                    2860   BIC:                         7.143e+04\n",
       "Df Model:                          14                                         \n",
       "Covariance Type:            nonrobust                                         \n",
       "=====================================================================================\n",
       "                        coef    std err          t      P>|t|      [0.025      0.975]\n",
       "-------------------------------------------------------------------------------------\n",
       "const             -4.985e+07   2.75e+06    -18.151      0.000   -5.52e+07   -4.45e+07\n",
       "DOM                 -55.1928     22.736     -2.428      0.015     -99.773     -10.612\n",
       "Garage Capacity    1.942e+04   1286.898     15.088      0.000    1.69e+04    2.19e+04\n",
       "HOA Fee               1.0187     17.429      0.058      0.953     -33.156      35.194\n",
       "Irregular Shape    1.348e+04   3881.799      3.472      0.001    5866.477    2.11e+04\n",
       "Quadrant           5508.5054   1044.865      5.272      0.000    3459.741    7557.270\n",
       "School District   -7499.6621   2558.191     -2.932      0.003   -1.25e+04   -2483.577\n",
       "Sold Terms         -660.7414    977.467     -0.676      0.499   -2577.353    1255.870\n",
       "Total Bedrooms     1000.4834   1345.759      0.743      0.457   -1638.272    3639.239\n",
       "Total Bathrooms    2022.8305   1987.773      1.018      0.309   -1874.783    5920.444\n",
       "Total Square Feet    80.6931      1.752     46.065      0.000      77.258      84.128\n",
       "Year Built          113.5147     45.989      2.468      0.014      23.340     203.689\n",
       "Zip                 459.4171    268.915      1.708      0.088     -67.869     986.703\n",
       "year_sold          2.459e+04   1361.057     18.065      0.000    2.19e+04    2.73e+04\n",
       "month_sold         2835.0534    365.969      7.747      0.000    2117.464    3552.643\n",
       "==============================================================================\n",
       "Omnibus:                     3540.895   Durbin-Watson:                   1.964\n",
       "Prob(Omnibus):                  0.000   Jarque-Bera (JB):          1530235.354\n",
       "Skew:                           6.092   Prob(JB):                         0.00\n",
       "Kurtosis:                     115.364   Cond. No.                     9.39e+06\n",
       "==============================================================================\n",
       "\n",
       "Warnings:\n",
       "[1] Standard Errors assume that the covariance matrix of the errors is correctly specified.\n",
       "[2] The condition number is large, 9.39e+06. This might indicate that there are\n",
       "strong multicollinearity or other numerical problems.\n",
       "\"\"\""
      ]
     },
     "execution_count": 88,
     "metadata": {},
     "output_type": "execute_result"
    }
   ],
   "source": [
    "statsmodels_reg.summary()"
   ]
  },
  {
   "cell_type": "markdown",
   "metadata": {},
   "source": [
    "---"
   ]
  },
  {
   "cell_type": "markdown",
   "metadata": {},
   "source": [
    "###  Additional links:\n"
   ]
  },
  {
   "cell_type": "markdown",
   "metadata": {},
   "source": [
    "1. Decision Trees with sklearn: https://scikit-learn.org/stable/modules/tree.html\n",
    "2. Ensemble learning with sklearn: https://scikit-learn.org/stable/modules/ensemble.html\n",
    "3. graphviz: this is used for Tree visualization: http://graphviz.org/\n",
    "4. Out of Bag errors for random forest: https://scikit-learn.org/stable/auto_examples/ensemble/plot_ensemble_oob.html#sphx-glr-auto-examples-ensemble-plot-ensemble-oob-py"
   ]
  }
 ],
 "metadata": {
  "kernelspec": {
   "display_name": "Python 3",
   "language": "python",
   "name": "python3"
  },
  "language_info": {
   "codemirror_mode": {
    "name": "ipython",
    "version": 3
   },
   "file_extension": ".py",
   "mimetype": "text/x-python",
   "name": "python",
   "nbconvert_exporter": "python",
   "pygments_lexer": "ipython3",
   "version": "3.7.3"
  }
 },
 "nbformat": 4,
 "nbformat_minor": 4
}
